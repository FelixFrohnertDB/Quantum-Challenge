{
 "cells": [
  {
   "cell_type": "code",
   "execution_count": 7,
   "id": "0f9b74ec",
   "metadata": {},
   "outputs": [],
   "source": [
    "import math\n",
    "import numpy as np\n",
    "import matplotlib.pyplot as plt\n",
    "import itertools\n"
   ]
  },
  {
   "cell_type": "code",
   "execution_count": 11,
   "id": "a9193d4a",
   "metadata": {},
   "outputs": [
    {
     "data": {
      "text/plain": [
       "8"
      ]
     },
     "execution_count": 11,
     "metadata": {},
     "output_type": "execute_result"
    }
   ],
   "source": [
    "2**3"
   ]
  },
  {
   "cell_type": "code",
   "execution_count": 12,
   "id": "2793e202",
   "metadata": {},
   "outputs": [
    {
     "data": {
      "text/plain": [
       "[(0, 0, 0, 0),\n",
       " (0, 0, 0, 1),\n",
       " (0, 0, 1, 0),\n",
       " (0, 0, 1, 1),\n",
       " (0, 1, 0, 0),\n",
       " (0, 1, 0, 1),\n",
       " (0, 1, 1, 0),\n",
       " (0, 1, 1, 1),\n",
       " (1, 0, 0, 0),\n",
       " (1, 0, 0, 1),\n",
       " (1, 0, 1, 0),\n",
       " (1, 0, 1, 1),\n",
       " (1, 1, 0, 0),\n",
       " (1, 1, 0, 1),\n",
       " (1, 1, 1, 0),\n",
       " (1, 1, 1, 1)]"
      ]
     },
     "execution_count": 12,
     "metadata": {},
     "output_type": "execute_result"
    }
   ],
   "source": [
    "lst = list(itertools.product([0, 1], repeat=4))\n",
    "lst"
   ]
  },
  {
   "cell_type": "code",
   "execution_count": 13,
   "id": "60f1523d",
   "metadata": {},
   "outputs": [
    {
     "data": {
      "text/plain": [
       "(array([0.00297264, 0.00424663, 0.00721927, 0.01741118, 0.02717843,\n",
       "        0.04586359, 0.06539809, 0.10404241, 0.17071448, 0.19746824,\n",
       "        0.27051026, 0.31000391, 0.37285402, 0.41149834, 0.41447098,\n",
       "        0.3821966 , 0.33123706, 0.2964147 , 0.24333184, 0.19152296,\n",
       "        0.12612488, 0.10489173, 0.06539809, 0.03991831, 0.02165781,\n",
       "        0.01061657, 0.00467129, 0.00424663, 0.00084933, 0.00127399,\n",
       "        0.        , 0.00042466]),\n",
       " array([-3.3449953, -3.1095144, -2.8740335, -2.6385526, -2.4030717,\n",
       "        -2.1675908, -1.9321099, -1.696629 , -1.4611481, -1.2256672,\n",
       "        -0.9901863, -0.7547054, -0.5192245, -0.2837436, -0.0482627,\n",
       "         0.1872182,  0.4226991,  0.65818  ,  0.8936609,  1.1291418,\n",
       "         1.3646227,  1.6001036,  1.8355845,  2.0710654,  2.3065463,\n",
       "         2.5420272,  2.7775081,  3.012989 ,  3.2484699,  3.4839508,\n",
       "         3.7194317,  3.9549126,  4.1903935]),\n",
       " <BarContainer object of 32 artists>)"
      ]
     },
     "execution_count": 13,
     "metadata": {},
     "output_type": "execute_result"
    },
    {
     "data": {
      "image/png": "[encoded data removed]",
      "text/plain": [
       "<Figure size 432x288 with 1 Axes>"
      ]
     },
     "metadata": {
      "needs_background": "light"
     },
     "output_type": "display_data"
    }
   ],
   "source": [
    "plt.hist(np.random.normal(size = 10000), bins=32, density=True, label=lst)"
   ]
  },
  {
   "cell_type": "code",
   "execution_count": 14,
   "id": "f327fd49",
   "metadata": {},
   "outputs": [
    {
     "name": "stdout",
     "output_type": "stream",
     "text": [
      "DensityMatrix([[ 0.34993954+0.j        , -0.15461489+0.01477942j,\n",
      "                 0.0651385 +0.10684487j, -0.01878848+0.03793684j],\n",
      "               [-0.15461489-0.01477942j,  0.1871799 +0.j        ,\n",
      "                -0.07730055+0.03948684j, -0.02016508-0.02120329j],\n",
      "               [ 0.0651385 -0.10684487j, -0.07730055-0.03948684j,\n",
      "                 0.33366929+0.j        ,  0.0589168 -0.04530165j],\n",
      "               [-0.01878848-0.03793684j, -0.02016508+0.02120329j,\n",
      "                 0.0589168 +0.04530165j,  0.12921126+0.j        ]],\n",
      "              dims=(2, 2))\n"
     ]
    }
   ],
   "source": [
    "from qiskit import quantum_info as qf\n",
    "qf.random_density_matrix(4)"
   ]
  }
 ],
 "metadata": {
  "kernelspec": {
   "display_name": "Python 3 (ipykernel)",
   "language": "python",
   "name": "python3"
  },
  "language_info": {
   "codemirror_mode": {
    "name": "ipython",
    "version": 3
   },
   "file_extension": ".py",
   "mimetype": "text/x-python",
   "name": "python",
   "nbconvert_exporter": "python",
   "pygments_lexer": "ipython3",
   "version": "3.9.7"
  }
 },
 "nbformat": 4,
 "nbformat_minor": 5
}
