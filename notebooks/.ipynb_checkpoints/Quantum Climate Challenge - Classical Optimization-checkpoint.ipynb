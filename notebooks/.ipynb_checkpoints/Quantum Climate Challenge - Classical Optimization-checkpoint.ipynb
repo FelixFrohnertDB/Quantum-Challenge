{
 "cells": [
  {
   "cell_type": "markdown",
   "metadata": {},
   "source": [
    "# Import Libraries"
   ]
  },
  {
   "cell_type": "code",
   "execution_count": 1,
   "metadata": {},
   "outputs": [],
   "source": [
    "import sys\n",
    "sys.path.append(\"/home/felix/PycharmProjects/Quantum-Challenge/\")\n",
    "import pandas as pd\n",
    "import xarray as xr\n",
    "import seaborn as sns\n",
    "import numpy as np\n",
    "import matplotlib.pyplot as plt\n",
    "import traceback\n",
    "import math\n",
    "\n",
    "import networkx as nx\n",
    "import itertools\n",
    "\n",
    "from qiskit.algorithms import AmplificationProblem\n",
    "from qiskit import Aer\n",
    "from qiskit.utils import QuantumInstance\n",
    "from qiskit.algorithms import Grover\n",
    "from qiskit.circuit.library import GroverOperator\n",
    "from qiskit.extensions import Initialize\n",
    "\n",
    "# importing Qiskit\n",
    "from qiskit import IBMQ, Aer, assemble, transpile\n",
    "from qiskit import QuantumCircuit, ClassicalRegister, QuantumRegister\n",
    "from qiskit.providers.ibmq import least_busy\n",
    "\n",
    "# import basic plot tools\n",
    "from qiskit.visualization import plot_histogram\n",
    "\n",
    "from itertools import product \n",
    "from qiskit.quantum_info import Statevector\n",
    "from importlib import reload"
   ]
  },
  {
   "cell_type": "code",
   "execution_count": 2,
   "metadata": {},
   "outputs": [],
   "source": [
    "import utils.utils as ut"
   ]
  },
  {
   "cell_type": "markdown",
   "metadata": {},
   "source": [
    "# Load flight Data "
   ]
  },
  {
   "cell_type": "code",
   "execution_count": 3,
   "metadata": {},
   "outputs": [],
   "source": [
    "flight_df = pd.read_csv(\"../data/flights.csv\", sep=\";\")"
   ]
  },
  {
   "cell_type": "markdown",
   "metadata": {},
   "source": [
    "# Load velocity and fuel consumption data"
   ]
  },
  {
   "cell_type": "code",
   "execution_count": 4,
   "metadata": {},
   "outputs": [],
   "source": [
    "cruise_df = pd.read_pickle(\"../data/cruise_df.pkl\")\n",
    "climb_df = pd.read_pickle(\"../data/climb_df.pkl\")\n",
    "descent_df = pd.read_pickle(\"../data/descent_df.pkl\")"
   ]
  },
  {
   "cell_type": "markdown",
   "metadata": {},
   "source": [
    "# Load climate data"
   ]
  },
  {
   "cell_type": "code",
   "execution_count": 5,
   "metadata": {},
   "outputs": [],
   "source": [
    "climate_df = pd.read_pickle(\"../data/climate_df.pkl\")"
   ]
  },
  {
   "cell_type": "markdown",
   "metadata": {},
   "source": [
    "# Classical non-optimization"
   ]
  },
  {
   "cell_type": "code",
   "execution_count": 118,
   "metadata": {},
   "outputs": [],
   "source": [
    "def get_classical_traj():\n",
    "    classical_trajectory_arr = []\n",
    "    for index, t, z, x_s, y_s, x_e, y_e in flight_df.to_numpy():\n",
    "\n",
    "        x_tr = np.linspace(x_s,x_e,100)\n",
    "        y_tr = np.linspace(y_s,y_e,100)\n",
    "\n",
    "\n",
    "        temp_trajec = []\n",
    "        for i in range(99):        \n",
    "            temp_trajec.append({\"x\": x_tr[i+1], \"y\":y_tr[i+1] })\n",
    "\n",
    "        traj_voxel = []\n",
    "\n",
    "        for c_1, i in enumerate(x_arr):\n",
    "            for c_2, j in enumerate(y_arr):\n",
    "                for c_3, l in enumerate(temp_trajec):\n",
    "                    if i == x_arr[(np.abs(x_arr - temp_trajec[c_3][\"x\"]  )).argmin()] and j == y_arr[(np.abs(y_arr - temp_trajec[c_3][\"y\"]  )).argmin()]:\n",
    "                        traj_voxel += [[x_arr[c_1],y_arr[c_2]]]\n",
    "\n",
    "        traj_voxel_temp = np.unique(traj_voxel,axis=0)\n",
    "        \n",
    "        traj_voxel = [traj_voxel_temp[0]]\n",
    "        for cnt, (x,y) in enumerate(traj_voxel_temp[1:]):\n",
    "            if x != traj_voxel_temp[cnt][0] and y != traj_voxel_temp[cnt][1]:\n",
    "                traj_voxel.append([x,traj_voxel_temp[cnt][1]])\n",
    "                traj_voxel.append([x,y])\n",
    "            else:\n",
    "                traj_voxel.append([x,y])\n",
    "        \n",
    "        traj = [{\"x\": x_s, \"y\":y_s, \"z\":z , \"t\": np.datetime64('2018-06-23 '+ t) , \"delta_t\":np.timedelta64(0,'s')  }]\n",
    "        for i in range(len(traj_voxel)-1):\n",
    "            point_x = ut.x_to_km(traj_voxel[i+1][0] - traj_voxel[i][0])\n",
    "            point_y = ut.y_to_km(traj_voxel[i+1][1] - traj_voxel[i][1])\n",
    "            point_dist = np.sqrt(point_x**2 + point_y**2)\n",
    "\n",
    "            point_t = int(3600 * point_dist/ (ut.find_fuel(cruise_df,z)[0] * 1.852))\n",
    "\n",
    "            traj.append({\"x\": traj_voxel[i+1][0], \"y\":traj_voxel[i+1][1], \"z\":z , \"t\":traj[i][\"t\"] + np.timedelta64(point_t,'s'), \"delta_t\":np.timedelta64(point_t,'s')  })\n",
    "        classical_trajectory_arr.append(traj)\n",
    "    return classical_trajectory_arr\n",
    "classical_trajectory_arr = get_classical_traj()"
   ]
  },
  {
   "cell_type": "markdown",
   "metadata": {},
   "source": [
    "Example of shortest path trajectory:"
   ]
  },
  {
   "cell_type": "code",
   "execution_count": 121,
   "metadata": {},
   "outputs": [
    {
     "data": {
      "image/png": "[encoded data removed]",
      "text/plain": [
       "<Figure size 432x288 with 2 Axes>"
      ]
     },
     "metadata": {
      "needs_background": "light"
     },
     "output_type": "display_data"
    }
   ],
   "source": [
    "test_classical_traj = classical_trajectory_arr[5]\n",
    "box_2d = np.zeros((x_arr.shape[0], y_arr.shape[0]))\n",
    "\n",
    "for c_1, i in enumerate(x_arr):\n",
    "    for c_2, j in enumerate(y_arr):\n",
    "        box_2d[c_1][c_2] = 1\n",
    "        for c_3, l in enumerate(test_classical_traj):\n",
    "            if i == l[\"x\"] and j == l[\"y\"]:\n",
    "                box_2d[c_1][c_2] = 0.5\n",
    "                \n",
    "                            \n",
    "ax = sns.heatmap(box_2d,xticklabels= y_arr, yticklabels=x_arr, linewidths=0.5)\n",
    "ax.set_ylabel(\"Longitude (W-E)\")\n",
    "ax.set_xlabel(\"Latitude (N-S)\")\n",
    "plt.show()"
   ]
  },
  {
   "cell_type": "code",
   "execution_count": 122,
   "metadata": {},
   "outputs": [
    {
     "data": {
      "text/plain": [
       "6.869211166897976e-06"
      ]
     },
     "execution_count": 122,
     "metadata": {},
     "output_type": "execute_result"
    }
   ],
   "source": [
    "reload(ut)\n",
    "classical_delta_T = np.sum([ut.C(tr) for tr in classical_trajectory_arr])\n",
    "classical_delta_T"
   ]
  },
  {
   "cell_type": "code",
   "execution_count": 123,
   "metadata": {},
   "outputs": [
    {
     "data": {
      "text/plain": [
       "2126269.6783333337"
      ]
     },
     "execution_count": 123,
     "metadata": {},
     "output_type": "execute_result"
    }
   ],
   "source": [
    "np.sum([ut.consumed_fuel(tr)[0] for tr in classical_trajectory_arr])"
   ]
  },
  {
   "cell_type": "code",
   "execution_count": 168,
   "metadata": {},
   "outputs": [
    {
     "data": {
      "text/plain": [
       "numpy.timedelta64(2782152,'s')"
      ]
     },
     "execution_count": 168,
     "metadata": {},
     "output_type": "execute_result"
    }
   ],
   "source": [
    "np.sum([ut.time_traveled(tr)for tr in classical_trajectory_arr])"
   ]
  },
  {
   "cell_type": "markdown",
   "metadata": {},
   "source": [
    "# Classical Optimization"
   ]
  },
  {
   "cell_type": "code",
   "execution_count": 74,
   "metadata": {},
   "outputs": [
    {
     "data": {
      "text/plain": [
       "0"
      ]
     },
     "execution_count": 74,
     "metadata": {},
     "output_type": "execute_result"
    }
   ],
   "source": [
    "G = ut.get_3d_graph()\n",
    "ut.add_weights_graph(G)\n",
    "# nx.write_gpickle(G, \"../data/w_graph.pkl\")\n",
    "# G = nx.read_gpickle(\"../data/w_graph.pkl\")"
   ]
  },
  {
   "cell_type": "code",
   "execution_count": 135,
   "metadata": {},
   "outputs": [],
   "source": [
    "classical_climate_trajectory_arr = []\n",
    "for s_inx, (_, t, z, x_s, y_s, x_e, y_e) in enumerate(flight_df.to_numpy()):\n",
    "    tuple_path = ut.gen_shortest_path(G, x_s, y_s, z, x_e, y_e, z)\n",
    "    test_trajec = ut.tuple_path_to_trajec(tuple_path, start_index = s_inx) \n",
    "    classical_climate_trajectory_arr.append(test_trajec)"
   ]
  },
  {
   "cell_type": "code",
   "execution_count": 156,
   "metadata": {},
   "outputs": [],
   "source": [
    "# reload(ut)\n",
    "classical_climate_trajectory_arr = []\n",
    "for s_inx, (_, t, z, x_s, y_s, x_e, y_e) in enumerate(flight_df.to_numpy()):\n",
    "    \n",
    "    temp_save = []\n",
    "    for z_e in z_arr:\n",
    "        tuple_path = ut.gen_shortest_path(G, x_s, y_s, z, x_e, y_e, z_e)\n",
    "        if tuple_path == []:\n",
    "            continue\n",
    "        test_trajec = ut.tuple_path_to_trajec(tuple_path, start_index=s_inx)\n",
    "        temp_save.append(test_trajec)\n",
    "    temp_cost = [ut.C(tr) for tr in temp_save]\n",
    "    min_inx = np.argmin(temp_cost)\n",
    "    \n",
    "    classical_climate_trajectory_arr.append(temp_save[min_inx])\n",
    "    "
   ]
  },
  {
   "cell_type": "code",
   "execution_count": 169,
   "metadata": {},
   "outputs": [],
   "source": [
    "np.save(\"../data/c_climate_trajectory_arr.npy\",np.array(classical_climate_trajectory_arr,dtype=object))"
   ]
  },
  {
   "cell_type": "code",
   "execution_count": 144,
   "metadata": {},
   "outputs": [
    {
     "data": {
      "image/png": "[encoded data removed]",
      "text/plain": [
       "<Figure size 432x288 with 2 Axes>"
      ]
     },
     "metadata": {
      "needs_background": "light"
     },
     "output_type": "display_data"
    }
   ],
   "source": [
    "test_classical_traj = classical_climate_trajectory_arr[11]\n",
    "box_2d = np.zeros((x_arr.shape[0], y_arr.shape[0]))\n",
    "\n",
    "for c_1, i in enumerate(x_arr):\n",
    "    for c_2, j in enumerate(y_arr):\n",
    "        box_2d[c_1][c_2] = 1\n",
    "        for c_3, l in enumerate(test_classical_traj):\n",
    "            if i == l[\"x\"] and j == l[\"y\"]:\n",
    "                box_2d[c_1][c_2] = ut.graph_plot_scale(l[\"z\"])\n",
    "                \n",
    "                            \n",
    "ax = sns.heatmap(box_2d,xticklabels= y_arr, yticklabels=x_arr, linewidths=0.5)\n",
    "ax.set_ylabel(\"Longitude (W-E)\")\n",
    "ax.set_xlabel(\"Latitude (N-S)\")\n",
    "plt.show()"
   ]
  },
  {
   "cell_type": "code",
   "execution_count": 157,
   "metadata": {},
   "outputs": [
    {
     "data": {
      "text/plain": [
       "5.024468851809599e-06"
      ]
     },
     "execution_count": 157,
     "metadata": {},
     "output_type": "execute_result"
    }
   ],
   "source": [
    "classical_climate_delta_T = np.sum([ut.C(tr) for tr in classical_climate_trajectory_arr])\n",
    "classical_climate_delta_T"
   ]
  },
  {
   "cell_type": "code",
   "execution_count": 158,
   "metadata": {},
   "outputs": [
    {
     "data": {
      "text/plain": [
       "1854540.6850377168"
      ]
     },
     "execution_count": 158,
     "metadata": {},
     "output_type": "execute_result"
    }
   ],
   "source": [
    "np.sum([ut.consumed_fuel(tr)[0] for tr in classical_climate_trajectory_arr])"
   ]
  },
  {
   "cell_type": "code",
   "execution_count": 167,
   "metadata": {},
   "outputs": [
    {
     "data": {
      "text/plain": [
       "numpy.timedelta64(2680147,'s')"
      ]
     },
     "execution_count": 167,
     "metadata": {},
     "output_type": "execute_result"
    }
   ],
   "source": [
    "np.sum([ut.time_traveled(tr)for tr in classical_climate_trajectory_arr])"
   ]
  }
 ],
 "metadata": {
  "kernelspec": {
   "display_name": "Python 3 (ipykernel)",
   "language": "python",
   "name": "python3"
  },
  "language_info": {
   "codemirror_mode": {
    "name": "ipython",
    "version": 3
   },
   "file_extension": ".py",
   "mimetype": "text/x-python",
   "name": "python",
   "nbconvert_exporter": "python",
   "pygments_lexer": "ipython3",
   "version": "3.9.7"
  }
 },
 "nbformat": 4,
 "nbformat_minor": 4
}
