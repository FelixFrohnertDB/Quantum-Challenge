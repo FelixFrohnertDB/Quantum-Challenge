{
 "cells": [
  {
   "cell_type": "markdown",
   "metadata": {},
   "source": [
    "In this notebook, we present two classical methods for calculating a flight plan. The first experiment is a non-optimization case where we disregard all climate information and simply take the path with the shortest distance. This is done to provide a benchmark for performance metrics such as $\\Delta T$, time traveled, or operating cost. In the second experiment, the configuration space of the trajectory is represented as a 3D grid, where the weights are the climate costs of traversing between the centers of two voxels. We then use a generic pathfinding algorithm to determine each optimal climate trajectory."
   ]
  },
  {
   "cell_type": "markdown",
   "metadata": {},
   "source": [
    "# Import Libraries"
   ]
  },
  {
   "cell_type": "code",
   "execution_count": 1,
   "metadata": {},
   "outputs": [],
   "source": [
    "import sys\n",
    "sys.path.append(\"/home/felix/PycharmProjects/Quantum-Challenge/\")\n",
    "import pandas as pd\n",
    "import xarray as xr\n",
    "import seaborn as sns\n",
    "import numpy as np\n",
    "import matplotlib.pyplot as plt\n",
    "import traceback\n",
    "import math\n",
    "\n",
    "import networkx as nx\n",
    "import itertools\n",
    "\n",
    "from itertools import product \n",
    "from qiskit.quantum_info import Statevector\n",
    "from importlib import reload\n",
    "import utils.utils as ut"
   ]
  },
  {
   "cell_type": "markdown",
   "metadata": {},
   "source": [
    "# Load flight Data "
   ]
  },
  {
   "cell_type": "code",
   "execution_count": 3,
   "metadata": {},
   "outputs": [],
   "source": [
    "flight_df = pd.read_csv(\"../data/flights.csv\", sep=\";\")"
   ]
  },
  {
   "cell_type": "markdown",
   "metadata": {},
   "source": [
    "# Load velocity and fuel consumption data"
   ]
  },
  {
   "cell_type": "code",
   "execution_count": 4,
   "metadata": {},
   "outputs": [],
   "source": [
    "cruise_df = pd.read_pickle(\"../data/cruise_df.pkl\")\n",
    "climb_df = pd.read_pickle(\"../data/climb_df.pkl\")\n",
    "descent_df = pd.read_pickle(\"../data/descent_df.pkl\")"
   ]
  },
  {
   "cell_type": "markdown",
   "metadata": {},
   "source": [
    "# Load climate data"
   ]
  },
  {
   "cell_type": "code",
   "execution_count": 5,
   "metadata": {},
   "outputs": [],
   "source": [
    "climate_df = pd.read_pickle(\"../data/climate_df.pkl\")"
   ]
  },
  {
   "cell_type": "markdown",
   "metadata": {},
   "source": [
    "# Classical non-optimization"
   ]
  },
  {
   "cell_type": "markdown",
   "metadata": {},
   "source": [
    "Takes the shortest Euclidean distance between start and end point without altitude change."
   ]
  },
  {
   "cell_type": "code",
   "execution_count": 118,
   "metadata": {},
   "outputs": [],
   "source": [
    "classical_trajectory_arr = ut.get_classical_traj()"
   ]
  },
  {
   "cell_type": "markdown",
   "metadata": {},
   "source": [
    "Example of shortest path trajectory:"
   ]
  },
  {
   "cell_type": "code",
   "execution_count": 188,
   "metadata": {},
   "outputs": [
    {
     "data": {
      "image/png": "[encoded data removed]",
      "text/plain": [
       "<Figure size 432x288 with 2 Axes>"
      ]
     },
     "metadata": {
      "needs_background": "light"
     },
     "output_type": "display_data"
    }
   ],
   "source": [
    "test_classical_traj = classical_trajectory_arr[11]\n",
    "box_2d = np.zeros((x_arr.shape[0], y_arr.shape[0]))\n",
    "\n",
    "for c_1, i in enumerate(x_arr):\n",
    "    for c_2, j in enumerate(y_arr):\n",
    "        box_2d[c_1][c_2] = 1\n",
    "        for c_3, l in enumerate(test_classical_traj):\n",
    "            if i == l[\"x\"] and j == l[\"y\"]:\n",
    "                box_2d[c_1][c_2] = 0.5\n",
    "                \n",
    "                            \n",
    "ax = sns.heatmap(box_2d,xticklabels= y_arr, yticklabels=x_arr, linewidths=0.5)\n",
    "ax.set_ylabel(\"Longitude (W-E)\")\n",
    "ax.set_xlabel(\"Latitude (N-S)\")\n",
    "plt.show()"
   ]
  },
  {
   "cell_type": "code",
   "execution_count": 122,
   "metadata": {},
   "outputs": [
    {
     "data": {
      "text/plain": [
       "6.869211166897976e-06"
      ]
     },
     "execution_count": 122,
     "metadata": {},
     "output_type": "execute_result"
    }
   ],
   "source": [
    "classical_delta_T = np.sum([ut.C(tr) for tr in classical_trajectory_arr])\n",
    "classical_delta_T"
   ]
  },
  {
   "cell_type": "code",
   "execution_count": 176,
   "metadata": {},
   "outputs": [
    {
     "data": {
      "text/plain": [
       "2126269.6783333337"
      ]
     },
     "execution_count": 176,
     "metadata": {},
     "output_type": "execute_result"
    }
   ],
   "source": [
    "np.sum([ut.consumed_fuel(tr)[0] for tr in classical_trajectory_arr])"
   ]
  },
  {
   "cell_type": "code",
   "execution_count": 184,
   "metadata": {},
   "outputs": [
    {
     "data": {
      "text/plain": [
       "numpy.timedelta64(2782152,'s')"
      ]
     },
     "execution_count": 184,
     "metadata": {},
     "output_type": "execute_result"
    }
   ],
   "source": [
    "np.sum([ut.time_traveled(tr)for tr in classical_trajectory_arr])"
   ]
  },
  {
   "cell_type": "markdown",
   "metadata": {},
   "source": [
    "# Classical Optimization"
   ]
  },
  {
   "cell_type": "code",
   "execution_count": 74,
   "metadata": {},
   "outputs": [
    {
     "data": {
      "text/plain": [
       "0"
      ]
     },
     "execution_count": 74,
     "metadata": {},
     "output_type": "execute_result"
    }
   ],
   "source": [
    "# G = ut.get_3d_graph()\n",
    "# ut.add_weights_graph(G)\n",
    "# nx.write_gpickle(G, \"../data/w_graph.pkl\")\n",
    "G = nx.read_gpickle(\"../data/w_graph.pkl\")"
   ]
  },
  {
   "cell_type": "markdown",
   "metadata": {},
   "source": [
    "Each node in the graph has a set of edges whose weight is the climate cost of traveling from one voxel center to another.\n",
    "As an example, take the node (4,4,4) with the following Edges:\n",
    "\n",
    "- (3, 4, 4): {'w': 103.63} \n",
    "- (4, 3, 4): {'w': 134.84} \n",
    "- (5, 4, 4): {'w': 103.67} \n",
    "- (4, 5, 4): {'w': 135.80}\n",
    "- (3, 4, 3): {'w': 112.62}\n",
    "- (5, 4, 5): {'w': 102.56}\n",
    "\n",
    "For this specific node, a given aircraft has the option to change the $x$ coordinate by $\\pm 2 ^{\\circ}$, the $y$ coordinate by $\\pm 2 ^{\\circ}$, or the $x$ coordinate by $\\pm 2 ^{\\circ}$ and the $z$ coordinate by $\\pm 20 FL$.\n",
    "\n"
   ]
  },
  {
   "cell_type": "markdown",
   "metadata": {},
   "source": [
    "The optimal trajectory for each of the 99 flights is then determined by calculating the shortest path for each final altitude."
   ]
  },
  {
   "cell_type": "code",
   "execution_count": 156,
   "metadata": {},
   "outputs": [],
   "source": [
    "classical_climate_trajectory_arr = []\n",
    "for s_inx, (_, t, z, x_s, y_s, x_e, y_e) in enumerate(flight_df.to_numpy()):\n",
    "    \n",
    "    temp_save = []\n",
    "    for z_e in z_arr:\n",
    "        tuple_path = ut.gen_shortest_path(G, x_s, y_s, z, x_e, y_e, z_e)\n",
    "        if tuple_path == []:\n",
    "            continue\n",
    "        test_trajec = ut.tuple_path_to_trajec(tuple_path, start_index=s_inx)\n",
    "        temp_save.append(test_trajec)\n",
    "    temp_cost = [ut.C(tr) for tr in temp_save]\n",
    "    min_inx = np.argmin(temp_cost)\n",
    "    \n",
    "    classical_climate_trajectory_arr.append(temp_save[min_inx])\n",
    "#np.save(\"../data/c_climate_trajectory_arr.npy\",np.array(classical_climate_trajectory_arr,dtype=object))"
   ]
  },
  {
   "cell_type": "markdown",
   "metadata": {},
   "source": [
    "A simple visualization of one of the trajectories shows the change in altitude over the course of the flight, as well as the change in navigation compared to the plot above."
   ]
  },
  {
   "cell_type": "code",
   "execution_count": 144,
   "metadata": {},
   "outputs": [
    {
     "data": {
      "image/png": "[encoded data removed]",
      "text/plain": [
       "<Figure size 432x288 with 2 Axes>"
      ]
     },
     "metadata": {
      "needs_background": "light"
     },
     "output_type": "display_data"
    }
   ],
   "source": [
    "test_classical_traj = classical_climate_trajectory_arr[11]\n",
    "box_2d = np.zeros((x_arr.shape[0], y_arr.shape[0]))\n",
    "\n",
    "for c_1, i in enumerate(x_arr):\n",
    "    for c_2, j in enumerate(y_arr):\n",
    "        box_2d[c_1][c_2] = 1\n",
    "        for c_3, l in enumerate(test_classical_traj):\n",
    "            if i == l[\"x\"] and j == l[\"y\"]:\n",
    "                box_2d[c_1][c_2] = ut.graph_plot_scale(l[\"z\"])\n",
    "                \n",
    "                            \n",
    "ax = sns.heatmap(box_2d,xticklabels= y_arr, yticklabels=x_arr, linewidths=0.5)\n",
    "ax.set_ylabel(\"Longitude (W-E)\")\n",
    "ax.set_xlabel(\"Latitude (N-S)\")\n",
    "plt.show()"
   ]
  },
  {
   "cell_type": "code",
   "execution_count": 157,
   "metadata": {},
   "outputs": [
    {
     "data": {
      "text/plain": [
       "5.024468851809599e-06"
      ]
     },
     "execution_count": 157,
     "metadata": {},
     "output_type": "execute_result"
    }
   ],
   "source": [
    "classical_climate_delta_T = np.sum([ut.C(tr) for tr in classical_climate_trajectory_arr])\n",
    "classical_climate_delta_T"
   ]
  },
  {
   "cell_type": "code",
   "execution_count": 181,
   "metadata": {},
   "outputs": [
    {
     "data": {
      "text/plain": [
       "1854540.6850377168"
      ]
     },
     "execution_count": 181,
     "metadata": {},
     "output_type": "execute_result"
    }
   ],
   "source": [
    "np.sum([ut.consumed_fuel(tr)[0] for tr in classical_climate_trajectory_arr])"
   ]
  },
  {
   "cell_type": "code",
   "execution_count": 185,
   "metadata": {},
   "outputs": [
    {
     "data": {
      "text/plain": [
       "numpy.timedelta64(2680147,'s')"
      ]
     },
     "execution_count": 185,
     "metadata": {},
     "output_type": "execute_result"
    }
   ],
   "source": [
    "np.sum([ut.time_traveled(tr)for tr in classical_climate_trajectory_arr])"
   ]
  }
 ],
 "metadata": {
  "kernelspec": {
   "display_name": "Python 3 (ipykernel)",
   "language": "python",
   "name": "python3"
  },
  "language_info": {
   "codemirror_mode": {
    "name": "ipython",
    "version": 3
   },
   "file_extension": ".py",
   "mimetype": "text/x-python",
   "name": "python",
   "nbconvert_exporter": "python",
   "pygments_lexer": "ipython3",
   "version": "3.9.7"
  }
 },
 "nbformat": 4,
 "nbformat_minor": 4
}
