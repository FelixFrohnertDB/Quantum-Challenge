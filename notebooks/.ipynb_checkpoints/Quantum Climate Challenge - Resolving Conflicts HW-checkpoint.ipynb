{
 "cells": [
  {
   "cell_type": "markdown",
   "metadata": {},
   "source": [
    "# Import Libraries"
   ]
  },
  {
   "cell_type": "code",
   "execution_count": 2,
   "metadata": {},
   "outputs": [],
   "source": [
    "import sys\n",
    "sys.path.append(\"/home/felix/PycharmProjects/Quantum-Challenge/\")\n",
    "import pandas as pd\n",
    "import xarray as xr\n",
    "import seaborn as sns\n",
    "import numpy as np\n",
    "import matplotlib.pyplot as plt\n",
    "import traceback\n",
    "import math\n",
    "import networkx as nx\n",
    "import itertools\n",
    "from qiskit.algorithms import AmplificationProblem\n",
    "from qiskit import Aer\n",
    "from qiskit.utils import QuantumInstance\n",
    "from qiskit.algorithms import Grover\n",
    "from qiskit.circuit.library import GroverOperator\n",
    "from qiskit.extensions import Initialize\n",
    "from qiskit import IBMQ, Aer, assemble, transpile\n",
    "from qiskit import QuantumCircuit, ClassicalRegister, QuantumRegister\n",
    "from qiskit.providers.ibmq import least_busy\n",
    "from qiskit.visualization import plot_histogram\n",
    "from itertools import product \n",
    "from qiskit.quantum_info import Statevector\n",
    "from importlib import reload\n",
    "from pytket.circuit import Circuit\n",
    "from pytket.extensions.qiskit import AerStateBackend, AerBackend  \n",
    "from pytket.circuit.display import render_circuit_jupyter\n",
    "from pytket.utils.results import probs_from_state  \n",
    "from qiskit.quantum_info import partial_trace, entropy, Statevector  \n",
    "import copy\n",
    "import utils.utils as ut"
   ]
  },
  {
   "cell_type": "code",
   "execution_count": 3,
   "metadata": {},
   "outputs": [],
   "source": [
    "flight_df = pd.read_csv(\"../data/flights.csv\", sep=\";\")\n",
    "cruise_df = pd.read_pickle(\"../data/cruise_df.pkl\")\n",
    "climb_df = pd.read_pickle(\"../data/climb_df.pkl\")\n",
    "descent_df = pd.read_pickle(\"../data/descent_df.pkl\")\n",
    "climate_df = pd.read_pickle(\"../data/climate_df.pkl\")\n",
    "q_traj_arr = np.load(\"../data/c_climate_trajectory_arr.npy\", allow_pickle=True)"
   ]
  },
  {
   "cell_type": "markdown",
   "metadata": {},
   "source": [
    "# De-Conflicting"
   ]
  },
  {
   "cell_type": "code",
   "execution_count": 4,
   "metadata": {},
   "outputs": [],
   "source": [
    "flight_df[\"cost\"] = [ut.C(traj) for traj in q_traj_arr]"
   ]
  },
  {
   "cell_type": "code",
   "execution_count": 5,
   "metadata": {},
   "outputs": [],
   "source": [
    "unique_coord_dict = ut.unique_coord(q_traj_arr)\n",
    "confl_list = ut.get_confl_arr(unique_coord_dict)\n",
    "choice_inx = np.random.choice(np.arange(len(confl_list)),size=5)\n",
    "confl_arr = confl_list[choice_inx]"
   ]
  },
  {
   "cell_type": "markdown",
   "metadata": {},
   "source": [
    "# Quantum Circuit"
   ]
  },
  {
   "cell_type": "code",
   "execution_count": 15,
   "metadata": {},
   "outputs": [],
   "source": [
    "def ansatz(params):\n",
    "    c = Circuit(n_qubits,0)\n",
    "    params = params / np.pi  # pytket works in units of pi: Ry(p, q) = exp(-i pi p/2 Y_q)    c = Circuit(n_qubits)\n",
    "    param_index = 0\n",
    "    for q in range(n_qubits):\n",
    "        c.Ry(params[param_index], q)\n",
    "        param_index += 1\n",
    "    for l in range(n_layers):\n",
    "        for q in range(n_qubits-1):\n",
    "            c.CX(q, q+1)\n",
    "        for q in range(n_qubits):\n",
    "            c.Ry(params[param_index], q)\n",
    "            param_index += 1\n",
    "    return c\n",
    "\n",
    "n_qubits = 4\n",
    "n_layers = 1  # number of ansatz circuit layers\n",
    "n_params = n_qubits * (1 + n_layers)  "
   ]
  },
  {
   "cell_type": "markdown",
   "metadata": {},
   "source": [
    "# Defining F-VQE prerequisites"
   ]
  },
  {
   "cell_type": "markdown",
   "metadata": {},
   "source": [
    "This section defines the auxiliary functions of the F-VQE \"protocol\". I have tried to arrange them in descending order of importance.\n",
    "As mentioned earlier, an important component of the F-VQE is the filtering operator $f$. It is defined as a real function $f(c)$, with $c$ as a real parameter, where $f^2(c)$ is strictly decreasing. Furthermore, the $\\tau>0$ function parameter can be varied at each optimization step.\n",
    "Here, an inverse filter was chosen because it showed the best performance in the F-VQE study."
   ]
  },
  {
   "cell_type": "code",
   "execution_count": 16,
   "metadata": {},
   "outputs": [],
   "source": [
    "# Filter: function f: c real to f(c) real such that f^2(c) strictly decreases\n",
    "\n",
    " # t>0 is a function parameter. Could be changed at each optimization step\n",
    "\n",
    "def f(c, t):\n",
    "    \n",
    "    if np.isclose(c,0):\n",
    "        return (c+e-5) ** (-t)    \n",
    "  \n",
    "    try:\n",
    "        return np.float64(c) ** np.float64(-t)\n",
    "    except:\n",
    "        return (c+e-5) ** (-t+ e-5)"
   ]
  },
  {
   "cell_type": "markdown",
   "metadata": {},
   "source": [
    "The $\\tau$ parameter is continuously adjusted to keep the gradient norm as close as possible to a desired large and fixed value to prevent the gradient from disappearing. \n",
    " \n",
    "In this case, the implementation is done using a simple heuristic diretly taken from the F-VQE paper.\n",
    "At each iteration step, we want to choose $\\tau$ such that the gradient norm is as close as possible but below a certain threshold $r$, i.e., we solve the implicit equation $\\text{gradient_norm}(\\tau) = r$\n",
    "\n",
    "\n",
    "For this we evaluate the gradient norm for increasing values\n",
    "of $\\tau$ until an upper bound is found such that $\\text{gradient_norm}(t_{up}) >= r$.\n",
    "Then we search for $\\tau$ in the range $[0, \\tau_{up}]$ up to\n",
    "a certain precision. "
   ]
  },
  {
   "cell_type": "markdown",
   "metadata": {},
   "source": [
    "Gradient where probs_plus/minus represents theta shifted by $\\pm \\frac{\\pi}{2}$.\n",
    "The partial derivative of a parameter is the difference \n",
    "between two circuits that differ in a positive/negative $\\frac{\\pi}{2}$\n",
    "shift of the parameter. "
   ]
  },
  {
   "cell_type": "code",
   "execution_count": 17,
   "metadata": {},
   "outputs": [],
   "source": [
    "# Gradient where probs_plus/minus represents theta shifted by +- pi/2\n",
    "# The partial derivative of a parameter is the difference \n",
    "# between two circuits that differ in a positive/negative pi/2 \n",
    "# shift of the parameter. \n",
    "def g(probs_plus_all, probs_minus_all, t, spectrum):  \n",
    "    output = np.zeros(n_params)\n",
    "    for i in range(n_params):\n",
    "        filter_exp_plus = evaluate_filter(probs_plus_all[i], t, spectrum)\n",
    "        filter_exp_minus = evaluate_filter(probs_minus_all[i], t, spectrum)\n",
    "        output[i] = filter_exp_minus - filter_exp_plus\n",
    "    return output\n",
    "\n",
    "def t_upper_bound(probs_plus_all, probs_minus_all, spectrum, n_trials=5):\n",
    "    for t in (3**i for i in range(n_trials)):\n",
    "        grad_norm = np.linalg.norm(g(probs_plus_all, probs_minus_all, t, spectrum))\n",
    "        if grad_norm > r:\n",
    "            return t, grad_norm\n",
    "    print('Upper bound of t not found. Returning the largest value tested.' + \\\n",
    "          'Increase the number of trials or reduce the threshold for improvement')\n",
    "    return t, grad_norm\n",
    "\n",
    "# Once the upper bound is found, we look for the value of t in the range[0, t_up] that is closest and below r\n",
    "def update_tau(probs_plus_all, probs_minus_all, spectrum):\n",
    "    precision=r/10\n",
    "    t_low = 0\n",
    "    t_up, grad_norm = t_upper_bound(probs_plus_all, probs_minus_all, spectrum)\n",
    "    while True:\n",
    "        t = (t_up + t_low) / 2\n",
    "        grad = g(probs_plus_all, probs_minus_all, t, spectrum)\n",
    "        grad_norm = np.linalg.norm(grad)\n",
    "        if r < grad_norm:\n",
    "            t_up = t\n",
    "        elif grad_norm < r - precision:\n",
    "            t_low = t\n",
    "        else:\n",
    "            return t, grad"
   ]
  },
  {
   "cell_type": "code",
   "execution_count": 18,
   "metadata": {},
   "outputs": [],
   "source": [
    "def sample_shifted_ansatz(params):  \n",
    "    probs_plus_all = {}\n",
    "    probs_minus_all = {}\n",
    "    for i in range(n_params):\n",
    "        params_plus = params + np.bincount([i], None, n_params) * np.pi / 2\n",
    "        params_minus = params - np.bincount([i], None, n_params) * np.pi / 2\n",
    "        \n",
    "        probs_plus = probs_from_state(get_state(params_plus))\n",
    "        probs_minus = probs_from_state(get_state(params_minus))\n",
    "\n",
    "        probs_plus_all[i] = probs_plus\n",
    "        probs_minus_all[i] = probs_minus\n",
    "    return probs_plus_all, probs_minus_all\n",
    "\n",
    "def sample_ansatz(params, state):\n",
    "    c = ansatz(params)\n",
    "    probs = probs_from_state(state)\n",
    "    return probs\n",
    "\n",
    "def get_state(params):\n",
    "    c = ansatz(params)\n",
    "    b = AerStateBackend()\n",
    "    return b.get_compiled_circuit(c).get_statevector()\n",
    "\n",
    "def update_spectrum(probs, spectrum,cost_function):\n",
    "    for bitstring, p in probs.items():\n",
    "        if bitstring in spectrum:\n",
    "            cost = spectrum[bitstring]\n",
    "        else:\n",
    "            cost = cost_function(bitstring, confl_arr, unique_coord_dict)\n",
    "            spectrum[bitstring] = cost\n",
    "    return spectrum\n",
    "\n",
    "def update_params(params, gradient):\n",
    "    return params - learning_rate * gradient\n",
    "\n",
    "lower_bound = 0 # min cost\n",
    "upper_bound = 4 # max cost\n",
    "def rescale(c, lower_bound=lower_bound, upper_bound=upper_bound):\n",
    "    b = 1 / (upper_bound - lower_bound)\n",
    "    a = - lower_bound / (upper_bound - lower_bound)\n",
    "    return a + b * c\n",
    "\n",
    "def evaluate_filter(probs, t, spectrum):\n",
    "    output = 0\n",
    "    for bitstring, p in probs.items():\n",
    "        cost = spectrum[bitstring]\n",
    "        cost = rescale(cost)\n",
    "        output += f(cost, t) * p\n",
    "    return output\n",
    "\n",
    "def evaluate_cost(probs, spectrum):\n",
    "    output = 0\n",
    "    for bitstring, p in probs.items():\n",
    "        cost = spectrum[bitstring]\n",
    "        output += cost * p\n",
    "    return output\n",
    "\n",
    "def get_entanglement(state):\n",
    "    Q = 0\n",
    "    for i in range(n_qubits):\n",
    "        trace_over = [q for q in range(n_qubits) if q != i]  \n",
    "        reduced_density_matrix = partial_trace(state, trace_over).data  \n",
    "        #raise matrix to power 2 and trace it\n",
    "        Q += np.real((np.linalg.matrix_power(reduced_density_matrix, 2)).trace())\n",
    "    Q = 2 - (2 / n_qubits) * Q\n",
    "    return Q\n",
    "\n",
    "def update_print_evolution(probs, t, spectrum, evolution, state):  \n",
    "    best_cost = min(spectrum.values())\n",
    "    best_solutions = {bitstring for bitstring, cost in spectrum.items() if cost==best_cost}\n",
    "    solution = next(iter(best_solutions))\n",
    "    try: \n",
    "        overlap_ground = probs.get(solution, 0)\n",
    "    except:\n",
    "        overlap_ground = None\n",
    "    average_cost = evaluate_cost(probs, spectrum)\n",
    "    most_likely_solution = max(probs, key=probs.get)\n",
    "    overlap_most_lik_sol = probs[most_likely_solution]\n",
    "    evolution['overlap ground state'].append(overlap_ground)\n",
    "    evolution['best cost'].append(best_cost)\n",
    "    evolution['average cost'].append(average_cost)\n",
    "    evolution['overlap most likely solution'].append(overlap_most_lik_sol)\n",
    "    evolution['tau'].append(t)\n",
    "\n",
    "    entanglement = get_entanglement(state)\n",
    "    evolution['entanglement'].append(entanglement)\n",
    "        \n",
    "    string_to_print = 'ov gr = ' + '{:.1e}'.format(overlap_ground) +  ', av cost = ' + '{:.1e}'.format(average_cost) + ', best cost = ' + '{:.1e}'.format(best_cost) + ', ent = ' + '{:.1e}'.format(entanglement) \n",
    "                           \n",
    "    return evolution, string_to_print    \n",
    "\n",
    "def plot_evolution(evolution):\n",
    "    instructions_l_axis = {'overlap ground state': {'color': 'green'},\n",
    "                           'overlap most likely solution': {'color': 'blue', 'linestyle': '--'}}\n",
    "\n",
    "    instructions_l_axis['entanglement'] = {'color': 'gray'}\n",
    "        \n",
    "    instructions_r_axis = {'best cost': {'color': 'red', 'linestyle': '--'},\n",
    "                           'average cost': {'color': 'red'}}\n",
    "    fig, ax = plt.subplots()\n",
    "    fig.patch.set_facecolor('white')  \n",
    "    plt.title(f'{n_qubits} qubits')\n",
    "    X = np.arange(n_steps + 1)\n",
    "    plt.xlim(0, n_steps)\n",
    "    plt.xlabel('optimisation step')\n",
    "    \n",
    "    ax.set_ylabel('overlap and entanglement')\n",
    "    ax.set_ylim([0, 1])\n",
    "    for label, style in instructions_l_axis.items():\n",
    "        Y = np.array(evolution[label])\n",
    "        if style.get('rescale', False): \n",
    "            rescale_factor = max([y for y in Y if not np.isnan(y)]) / ax.get_ylim()[1]\n",
    "            if rescale_factor > 1:\n",
    "                rescale_factor = 10 ** np.ceil(np.log10(rescale_factor))\n",
    "                Y /= rescale_factor\n",
    "                label += ' x ~' + '{:.0e}'.format(rescale_factor)\n",
    "            del style['rescale']\n",
    "        ax.plot(X, Y, **style, label=label)\n",
    "    \n",
    "    ax2 = ax.twinx()\n",
    "    ax.plot([], [], color='red', linewidth=3)\n",
    "    ax2.set_ylabel('cost', color='tab:' + 'red')\n",
    "    ax2.tick_params(axis='y', labelcolor='tab:' + 'red')\n",
    "    for label, style in instructions_r_axis.items():\n",
    "        ax2.plot(X, np.array(evolution[label]), **style, label=label)\n",
    "    \n",
    "    ax.legend(bbox_to_anchor=(1.1, 1), loc='upper left')\n",
    "    ax2.legend(bbox_to_anchor=(1.1, 0.7), loc='upper left')\n",
    "    plt.show()\n",
    "    \n",
    "def fvqe(params, t, n_steps, spectrum, cost_function,allowPrint=True):\n",
    "    evolution = {'overlap ground state': [], 'best cost': [], 'average cost': [], \n",
    "                 'overlap most likely solution': [], 'tau': [], 'entanglement':[]}    \n",
    "    for step in range(n_steps):   \n",
    "        state = get_state(params)\n",
    "        probs = sample_ansatz(params, state) \n",
    "        spectrum = update_spectrum(probs, spectrum,cost_function)\n",
    "        evolution, string_to_print = update_print_evolution(probs, t, spectrum, evolution, state)  \n",
    "        if allowPrint:\n",
    "            print(f\"step {step}: \" + string_to_print)   \n",
    "        probs_plus_all, probs_minus_all = sample_shifted_ansatz(params)    \n",
    "        for i in range(n_params):\n",
    "            spectrum = update_spectrum(probs_plus_all[i], spectrum,cost_function)\n",
    "            spectrum = update_spectrum(probs_minus_all[i], spectrum,cost_function)\n",
    "        \n",
    "        t, gradient = update_tau(probs_plus_all, probs_minus_all, spectrum)\n",
    "        params = update_params(params, gradient)\n",
    "        \n",
    "    step = n_steps  \n",
    "    probs = sample_ansatz(params,state)  \n",
    "    spectrum = update_spectrum(probs, spectrum,cost_function)\n",
    "    evolution, string_to_print = update_print_evolution(probs, t, spectrum, evolution, state)  \n",
    "    if allowPrint:\n",
    "        print(f\"step {step}: \" + string_to_print)  \n",
    "    return evolution, params, spectrum"
   ]
  },
  {
   "cell_type": "code",
   "execution_count": 19,
   "metadata": {},
   "outputs": [],
   "source": [
    "original_cost = np.sum([ut.C(tr)for tr in q_traj_arr])"
   ]
  },
  {
   "cell_type": "code",
   "execution_count": 20,
   "metadata": {},
   "outputs": [],
   "source": [
    "traj_a = q_traj_arr\n",
    "df = flight_df\n",
    "def vqe_cost(bit_string, confl_arr, un_coord_dict):\n",
    "    \"\"\" Get cost for vqe \"\"\"\n",
    "    traj_arr = traj_a[:]\n",
    "    p = 0.1\n",
    "    de_conflicted_traj_arr = ut.bitstr_to_traj(bit_string, confl_arr, traj_arr, unique_coord_dict)\n",
    "    improved_cost = ut.get_new_cost(confl_arr, de_conflicted_traj_arr, df)\n",
    "    penalty = p*ut.penalty_cnt(bit_string, confl_arr, traj_arr, un_coord_dict)\n",
    "    return 100000*(improved_cost - original_cost)/original_cost + penalty "
   ]
  },
  {
   "cell_type": "code",
   "execution_count": 21,
   "metadata": {},
   "outputs": [
    {
     "name": "stdout",
     "output_type": "stream",
     "text": [
      "15.298892355448707\n",
      "14.854048391942776\n",
      "-43.890451415969856\n"
     ]
    },
    {
     "ename": "KeyboardInterrupt",
     "evalue": "",
     "output_type": "error",
     "traceback": [
      "\u001b[0;31m---------------------------------------------------------------------------\u001b[0m",
      "\u001b[0;31mKeyboardInterrupt\u001b[0m                         Traceback (most recent call last)",
      "\u001b[0;32m/tmp/ipykernel_14604/1139899659.py\u001b[0m in \u001b[0;36m<module>\u001b[0;34m\u001b[0m\n\u001b[1;32m      1\u001b[0m \u001b[0;32mfor\u001b[0m \u001b[0mbit\u001b[0m \u001b[0;32min\u001b[0m \u001b[0mlist\u001b[0m\u001b[0;34m(\u001b[0m\u001b[0mitertools\u001b[0m\u001b[0;34m.\u001b[0m\u001b[0mproduct\u001b[0m\u001b[0;34m(\u001b[0m\u001b[0;34m[\u001b[0m\u001b[0;36m0\u001b[0m\u001b[0;34m,\u001b[0m \u001b[0;36m1\u001b[0m\u001b[0;34m]\u001b[0m\u001b[0;34m,\u001b[0m \u001b[0mrepeat\u001b[0m\u001b[0;34m=\u001b[0m\u001b[0;36m4\u001b[0m\u001b[0;34m)\u001b[0m\u001b[0;34m)\u001b[0m\u001b[0;34m:\u001b[0m\u001b[0;34m\u001b[0m\u001b[0;34m\u001b[0m\u001b[0m\n\u001b[0;32m----> 2\u001b[0;31m     \u001b[0mprint\u001b[0m\u001b[0;34m(\u001b[0m\u001b[0mvqe_cost\u001b[0m\u001b[0;34m(\u001b[0m\u001b[0mbit\u001b[0m\u001b[0;34m,\u001b[0m \u001b[0mconfl_arr\u001b[0m\u001b[0;34m,\u001b[0m \u001b[0munique_coord_dict\u001b[0m\u001b[0;34m)\u001b[0m\u001b[0;34m)\u001b[0m\u001b[0;34m\u001b[0m\u001b[0;34m\u001b[0m\u001b[0m\n\u001b[0m",
      "\u001b[0;32m/tmp/ipykernel_14604/317691875.py\u001b[0m in \u001b[0;36mvqe_cost\u001b[0;34m(bit_string, confl_arr, un_coord_dict)\u001b[0m\n\u001b[1;32m      6\u001b[0m     \u001b[0mp\u001b[0m \u001b[0;34m=\u001b[0m \u001b[0;36m0.1\u001b[0m\u001b[0;34m\u001b[0m\u001b[0;34m\u001b[0m\u001b[0m\n\u001b[1;32m      7\u001b[0m     \u001b[0mde_conflicted_traj_arr\u001b[0m \u001b[0;34m=\u001b[0m \u001b[0mut\u001b[0m\u001b[0;34m.\u001b[0m\u001b[0mbitstr_to_traj\u001b[0m\u001b[0;34m(\u001b[0m\u001b[0mbit_string\u001b[0m\u001b[0;34m,\u001b[0m \u001b[0mconfl_arr\u001b[0m\u001b[0;34m,\u001b[0m \u001b[0mtraj_arr\u001b[0m\u001b[0;34m,\u001b[0m \u001b[0munique_coord_dict\u001b[0m\u001b[0;34m)\u001b[0m\u001b[0;34m\u001b[0m\u001b[0;34m\u001b[0m\u001b[0m\n\u001b[0;32m----> 8\u001b[0;31m     \u001b[0mimproved_cost\u001b[0m \u001b[0;34m=\u001b[0m \u001b[0mut\u001b[0m\u001b[0;34m.\u001b[0m\u001b[0mget_new_cost\u001b[0m\u001b[0;34m(\u001b[0m\u001b[0mconfl_arr\u001b[0m\u001b[0;34m,\u001b[0m \u001b[0mde_conflicted_traj_arr\u001b[0m\u001b[0;34m,\u001b[0m \u001b[0mdf\u001b[0m\u001b[0;34m)\u001b[0m\u001b[0;34m\u001b[0m\u001b[0;34m\u001b[0m\u001b[0m\n\u001b[0m\u001b[1;32m      9\u001b[0m     \u001b[0mpenalty\u001b[0m \u001b[0;34m=\u001b[0m \u001b[0mp\u001b[0m\u001b[0;34m*\u001b[0m\u001b[0mut\u001b[0m\u001b[0;34m.\u001b[0m\u001b[0mpenalty_cnt\u001b[0m\u001b[0;34m(\u001b[0m\u001b[0mbit_string\u001b[0m\u001b[0;34m,\u001b[0m \u001b[0mconfl_arr\u001b[0m\u001b[0;34m,\u001b[0m \u001b[0mtraj_arr\u001b[0m\u001b[0;34m,\u001b[0m \u001b[0mun_coord_dict\u001b[0m\u001b[0;34m)\u001b[0m\u001b[0;34m\u001b[0m\u001b[0;34m\u001b[0m\u001b[0m\n\u001b[1;32m     10\u001b[0m     \u001b[0;32mreturn\u001b[0m \u001b[0;36m100000\u001b[0m\u001b[0;34m*\u001b[0m\u001b[0;34m(\u001b[0m\u001b[0mimproved_cost\u001b[0m \u001b[0;34m-\u001b[0m \u001b[0moriginal_cost\u001b[0m\u001b[0;34m)\u001b[0m\u001b[0;34m/\u001b[0m\u001b[0moriginal_cost\u001b[0m \u001b[0;34m+\u001b[0m \u001b[0mpenalty\u001b[0m\u001b[0;34m\u001b[0m\u001b[0;34m\u001b[0m\u001b[0m\n",
      "\u001b[0;32m~/PycharmProjects/Quantum-Challenge/utils/utils.py\u001b[0m in \u001b[0;36mget_new_cost\u001b[0;34m(confl_arr, de_conflicted_traj_arr, df)\u001b[0m\n\u001b[1;32m    851\u001b[0m             \u001b[0mc_sum\u001b[0m \u001b[0;34m+=\u001b[0m \u001b[0mc\u001b[0m\u001b[0;34m\u001b[0m\u001b[0;34m\u001b[0m\u001b[0m\n\u001b[1;32m    852\u001b[0m     \u001b[0;32mfor\u001b[0m \u001b[0mc_inx\u001b[0m \u001b[0;32min\u001b[0m \u001b[0mconfl_arr\u001b[0m\u001b[0;34m[\u001b[0m\u001b[0;34m:\u001b[0m\u001b[0;34m,\u001b[0m \u001b[0;36m0\u001b[0m\u001b[0;34m]\u001b[0m\u001b[0;34m:\u001b[0m\u001b[0;34m\u001b[0m\u001b[0;34m\u001b[0m\u001b[0m\n\u001b[0;32m--> 853\u001b[0;31m         \u001b[0mc_sum\u001b[0m \u001b[0;34m+=\u001b[0m \u001b[0mC\u001b[0m\u001b[0;34m(\u001b[0m\u001b[0mde_conflicted_traj_arr\u001b[0m\u001b[0;34m[\u001b[0m\u001b[0mc_inx\u001b[0m\u001b[0;34m]\u001b[0m\u001b[0;34m)\u001b[0m\u001b[0;34m\u001b[0m\u001b[0;34m\u001b[0m\u001b[0m\n\u001b[0m\u001b[1;32m    854\u001b[0m     \u001b[0;32mreturn\u001b[0m \u001b[0mc_sum\u001b[0m\u001b[0;34m\u001b[0m\u001b[0;34m\u001b[0m\u001b[0m\n\u001b[1;32m    855\u001b[0m \u001b[0;34m\u001b[0m\u001b[0m\n",
      "\u001b[0;32m~/PycharmProjects/Quantum-Challenge/utils/utils.py\u001b[0m in \u001b[0;36mC\u001b[0;34m(trajectory)\u001b[0m\n\u001b[1;32m    211\u001b[0m     \u001b[0mc_fuel\u001b[0m \u001b[0;34m=\u001b[0m \u001b[0mconsumed_fuel\u001b[0m\u001b[0;34m(\u001b[0m\u001b[0mtrajectory\u001b[0m\u001b[0;34m)\u001b[0m\u001b[0;34m[\u001b[0m\u001b[0;36m0\u001b[0m\u001b[0;34m]\u001b[0m  \u001b[0;31m# kg\u001b[0m\u001b[0;34m\u001b[0m\u001b[0;34m\u001b[0m\u001b[0m\n\u001b[1;32m    212\u001b[0m     effect_sum = np.sum(\n\u001b[0;32m--> 213\u001b[0;31m         [find_climate(climate_df, x=point[\"x\"], y=point[\"y\"], z=point[\"z\"], t=point[\"t\"]) for point in trajectory])\n\u001b[0m\u001b[1;32m    214\u001b[0m     \u001b[0mdelta_c\u001b[0m \u001b[0;34m=\u001b[0m \u001b[0meffect_sum\u001b[0m \u001b[0;34m*\u001b[0m \u001b[0;36m10\u001b[0m \u001b[0;34m**\u001b[0m \u001b[0;34m(\u001b[0m\u001b[0;34m-\u001b[0m\u001b[0;36m12\u001b[0m\u001b[0;34m)\u001b[0m  \u001b[0;31m# K/kg fuel\u001b[0m\u001b[0;34m\u001b[0m\u001b[0;34m\u001b[0m\u001b[0m\n\u001b[1;32m    215\u001b[0m     \u001b[0;32mreturn\u001b[0m \u001b[0mdelta_c\u001b[0m \u001b[0;34m*\u001b[0m \u001b[0mc_fuel\u001b[0m\u001b[0;34m\u001b[0m\u001b[0;34m\u001b[0m\u001b[0m\n",
      "\u001b[0;32m~/PycharmProjects/Quantum-Challenge/utils/utils.py\u001b[0m in \u001b[0;36m<listcomp>\u001b[0;34m(.0)\u001b[0m\n\u001b[1;32m    211\u001b[0m     \u001b[0mc_fuel\u001b[0m \u001b[0;34m=\u001b[0m \u001b[0mconsumed_fuel\u001b[0m\u001b[0;34m(\u001b[0m\u001b[0mtrajectory\u001b[0m\u001b[0;34m)\u001b[0m\u001b[0;34m[\u001b[0m\u001b[0;36m0\u001b[0m\u001b[0;34m]\u001b[0m  \u001b[0;31m# kg\u001b[0m\u001b[0;34m\u001b[0m\u001b[0;34m\u001b[0m\u001b[0m\n\u001b[1;32m    212\u001b[0m     effect_sum = np.sum(\n\u001b[0;32m--> 213\u001b[0;31m         [find_climate(climate_df, x=point[\"x\"], y=point[\"y\"], z=point[\"z\"], t=point[\"t\"]) for point in trajectory])\n\u001b[0m\u001b[1;32m    214\u001b[0m     \u001b[0mdelta_c\u001b[0m \u001b[0;34m=\u001b[0m \u001b[0meffect_sum\u001b[0m \u001b[0;34m*\u001b[0m \u001b[0;36m10\u001b[0m \u001b[0;34m**\u001b[0m \u001b[0;34m(\u001b[0m\u001b[0;34m-\u001b[0m\u001b[0;36m12\u001b[0m\u001b[0;34m)\u001b[0m  \u001b[0;31m# K/kg fuel\u001b[0m\u001b[0;34m\u001b[0m\u001b[0;34m\u001b[0m\u001b[0m\n\u001b[1;32m    215\u001b[0m     \u001b[0;32mreturn\u001b[0m \u001b[0mdelta_c\u001b[0m \u001b[0;34m*\u001b[0m \u001b[0mc_fuel\u001b[0m\u001b[0;34m\u001b[0m\u001b[0;34m\u001b[0m\u001b[0m\n",
      "\u001b[0;32m~/PycharmProjects/Quantum-Challenge/utils/utils.py\u001b[0m in \u001b[0;36mfind_climate\u001b[0;34m(df, x, y, z, t)\u001b[0m\n\u001b[1;32m    195\u001b[0m     \u001b[0mr_inx\u001b[0m \u001b[0;34m=\u001b[0m \u001b[0mtemp_series\u001b[0m\u001b[0;34m.\u001b[0m\u001b[0mindex\u001b[0m\u001b[0;34m[\u001b[0m\u001b[0minx\u001b[0m\u001b[0;34m]\u001b[0m\u001b[0;34m\u001b[0m\u001b[0;34m\u001b[0m\u001b[0m\n\u001b[1;32m    196\u001b[0m \u001b[0;34m\u001b[0m\u001b[0m\n\u001b[0;32m--> 197\u001b[0;31m     ret = df.loc[inx_arr].loc[(df[\"LONGITUDE\"] == scaled_x) & (df[\"LATITUDE\"] == scaled_y) & (\n\u001b[0m\u001b[1;32m    198\u001b[0m             df[\"TIME\"] == np.datetime64('2018-06-23') + np.timedelta64(temp_series.loc[r_inx], 'h')), \"MERGED\"]\n\u001b[1;32m    199\u001b[0m \u001b[0;34m\u001b[0m\u001b[0m\n",
      "\u001b[0;32m~/anaconda3/envs/vae-wavefunctions/lib/python3.9/site-packages/pandas/core/indexing.py\u001b[0m in \u001b[0;36m__getitem__\u001b[0;34m(self, key)\u001b[0m\n\u001b[1;32m    929\u001b[0m \u001b[0;34m\u001b[0m\u001b[0m\n\u001b[1;32m    930\u001b[0m             \u001b[0mmaybe_callable\u001b[0m \u001b[0;34m=\u001b[0m \u001b[0mcom\u001b[0m\u001b[0;34m.\u001b[0m\u001b[0mapply_if_callable\u001b[0m\u001b[0;34m(\u001b[0m\u001b[0mkey\u001b[0m\u001b[0;34m,\u001b[0m \u001b[0mself\u001b[0m\u001b[0;34m.\u001b[0m\u001b[0mobj\u001b[0m\u001b[0;34m)\u001b[0m\u001b[0;34m\u001b[0m\u001b[0;34m\u001b[0m\u001b[0m\n\u001b[0;32m--> 931\u001b[0;31m             \u001b[0;32mreturn\u001b[0m \u001b[0mself\u001b[0m\u001b[0;34m.\u001b[0m\u001b[0m_getitem_axis\u001b[0m\u001b[0;34m(\u001b[0m\u001b[0mmaybe_callable\u001b[0m\u001b[0;34m,\u001b[0m \u001b[0maxis\u001b[0m\u001b[0;34m=\u001b[0m\u001b[0maxis\u001b[0m\u001b[0;34m)\u001b[0m\u001b[0;34m\u001b[0m\u001b[0;34m\u001b[0m\u001b[0m\n\u001b[0m\u001b[1;32m    932\u001b[0m \u001b[0;34m\u001b[0m\u001b[0m\n\u001b[1;32m    933\u001b[0m     \u001b[0;32mdef\u001b[0m \u001b[0m_is_scalar_access\u001b[0m\u001b[0;34m(\u001b[0m\u001b[0mself\u001b[0m\u001b[0;34m,\u001b[0m \u001b[0mkey\u001b[0m\u001b[0;34m:\u001b[0m \u001b[0mtuple\u001b[0m\u001b[0;34m)\u001b[0m\u001b[0;34m:\u001b[0m\u001b[0;34m\u001b[0m\u001b[0;34m\u001b[0m\u001b[0m\n",
      "\u001b[0;32m~/anaconda3/envs/vae-wavefunctions/lib/python3.9/site-packages/pandas/core/indexing.py\u001b[0m in \u001b[0;36m_getitem_axis\u001b[0;34m(self, key, axis)\u001b[0m\n\u001b[1;32m   1151\u001b[0m                     \u001b[0;32mraise\u001b[0m \u001b[0mValueError\u001b[0m\u001b[0;34m(\u001b[0m\u001b[0;34m\"Cannot index with multidimensional key\"\u001b[0m\u001b[0;34m)\u001b[0m\u001b[0;34m\u001b[0m\u001b[0;34m\u001b[0m\u001b[0m\n\u001b[1;32m   1152\u001b[0m \u001b[0;34m\u001b[0m\u001b[0m\n\u001b[0;32m-> 1153\u001b[0;31m                 \u001b[0;32mreturn\u001b[0m \u001b[0mself\u001b[0m\u001b[0;34m.\u001b[0m\u001b[0m_getitem_iterable\u001b[0m\u001b[0;34m(\u001b[0m\u001b[0mkey\u001b[0m\u001b[0;34m,\u001b[0m \u001b[0maxis\u001b[0m\u001b[0;34m=\u001b[0m\u001b[0maxis\u001b[0m\u001b[0;34m)\u001b[0m\u001b[0;34m\u001b[0m\u001b[0;34m\u001b[0m\u001b[0m\n\u001b[0m\u001b[1;32m   1154\u001b[0m \u001b[0;34m\u001b[0m\u001b[0m\n\u001b[1;32m   1155\u001b[0m             \u001b[0;31m# nested tuple slicing\u001b[0m\u001b[0;34m\u001b[0m\u001b[0;34m\u001b[0m\u001b[0m\n",
      "\u001b[0;32m~/anaconda3/envs/vae-wavefunctions/lib/python3.9/site-packages/pandas/core/indexing.py\u001b[0m in \u001b[0;36m_getitem_iterable\u001b[0;34m(self, key, axis)\u001b[0m\n\u001b[1;32m   1091\u001b[0m \u001b[0;34m\u001b[0m\u001b[0m\n\u001b[1;32m   1092\u001b[0m         \u001b[0;31m# A collection of keys\u001b[0m\u001b[0;34m\u001b[0m\u001b[0;34m\u001b[0m\u001b[0m\n\u001b[0;32m-> 1093\u001b[0;31m         \u001b[0mkeyarr\u001b[0m\u001b[0;34m,\u001b[0m \u001b[0mindexer\u001b[0m \u001b[0;34m=\u001b[0m \u001b[0mself\u001b[0m\u001b[0;34m.\u001b[0m\u001b[0m_get_listlike_indexer\u001b[0m\u001b[0;34m(\u001b[0m\u001b[0mkey\u001b[0m\u001b[0;34m,\u001b[0m \u001b[0maxis\u001b[0m\u001b[0;34m)\u001b[0m\u001b[0;34m\u001b[0m\u001b[0;34m\u001b[0m\u001b[0m\n\u001b[0m\u001b[1;32m   1094\u001b[0m         return self.obj._reindex_with_indexers(\n\u001b[1;32m   1095\u001b[0m             \u001b[0;34m{\u001b[0m\u001b[0maxis\u001b[0m\u001b[0;34m:\u001b[0m \u001b[0;34m[\u001b[0m\u001b[0mkeyarr\u001b[0m\u001b[0;34m,\u001b[0m \u001b[0mindexer\u001b[0m\u001b[0;34m]\u001b[0m\u001b[0;34m}\u001b[0m\u001b[0;34m,\u001b[0m \u001b[0mcopy\u001b[0m\u001b[0;34m=\u001b[0m\u001b[0;32mTrue\u001b[0m\u001b[0;34m,\u001b[0m \u001b[0mallow_dups\u001b[0m\u001b[0;34m=\u001b[0m\u001b[0;32mTrue\u001b[0m\u001b[0;34m\u001b[0m\u001b[0;34m\u001b[0m\u001b[0m\n",
      "\u001b[0;32m~/anaconda3/envs/vae-wavefunctions/lib/python3.9/site-packages/pandas/core/indexing.py\u001b[0m in \u001b[0;36m_get_listlike_indexer\u001b[0;34m(self, key, axis)\u001b[0m\n\u001b[1;32m   1308\u001b[0m         \u001b[0;32mif\u001b[0m \u001b[0max\u001b[0m\u001b[0;34m.\u001b[0m\u001b[0m_index_as_unique\u001b[0m\u001b[0;34m:\u001b[0m\u001b[0;34m\u001b[0m\u001b[0;34m\u001b[0m\u001b[0m\n\u001b[1;32m   1309\u001b[0m             \u001b[0mindexer\u001b[0m \u001b[0;34m=\u001b[0m \u001b[0max\u001b[0m\u001b[0;34m.\u001b[0m\u001b[0mget_indexer_for\u001b[0m\u001b[0;34m(\u001b[0m\u001b[0mkeyarr\u001b[0m\u001b[0;34m)\u001b[0m\u001b[0;34m\u001b[0m\u001b[0;34m\u001b[0m\u001b[0m\n\u001b[0;32m-> 1310\u001b[0;31m             \u001b[0mkeyarr\u001b[0m \u001b[0;34m=\u001b[0m \u001b[0max\u001b[0m\u001b[0;34m.\u001b[0m\u001b[0mreindex\u001b[0m\u001b[0;34m(\u001b[0m\u001b[0mkeyarr\u001b[0m\u001b[0;34m)\u001b[0m\u001b[0;34m[\u001b[0m\u001b[0;36m0\u001b[0m\u001b[0;34m]\u001b[0m\u001b[0;34m\u001b[0m\u001b[0;34m\u001b[0m\u001b[0m\n\u001b[0m\u001b[1;32m   1311\u001b[0m         \u001b[0;32melse\u001b[0m\u001b[0;34m:\u001b[0m\u001b[0;34m\u001b[0m\u001b[0;34m\u001b[0m\u001b[0m\n\u001b[1;32m   1312\u001b[0m             \u001b[0mkeyarr\u001b[0m\u001b[0;34m,\u001b[0m \u001b[0mindexer\u001b[0m\u001b[0;34m,\u001b[0m \u001b[0mnew_indexer\u001b[0m \u001b[0;34m=\u001b[0m \u001b[0max\u001b[0m\u001b[0;34m.\u001b[0m\u001b[0m_reindex_non_unique\u001b[0m\u001b[0;34m(\u001b[0m\u001b[0mkeyarr\u001b[0m\u001b[0;34m)\u001b[0m\u001b[0;34m\u001b[0m\u001b[0;34m\u001b[0m\u001b[0m\n",
      "\u001b[0;32m~/anaconda3/envs/vae-wavefunctions/lib/python3.9/site-packages/pandas/core/indexes/base.py\u001b[0m in \u001b[0;36mreindex\u001b[0;34m(self, target, method, level, limit, tolerance)\u001b[0m\n\u001b[1;32m   3812\u001b[0m             \u001b[0mtarget\u001b[0m \u001b[0;34m=\u001b[0m \u001b[0mself\u001b[0m\u001b[0;34m[\u001b[0m\u001b[0;34m:\u001b[0m\u001b[0;36m0\u001b[0m\u001b[0;34m]\u001b[0m\u001b[0;34m\u001b[0m\u001b[0;34m\u001b[0m\u001b[0m\n\u001b[1;32m   3813\u001b[0m         \u001b[0;32melse\u001b[0m\u001b[0;34m:\u001b[0m\u001b[0;34m\u001b[0m\u001b[0;34m\u001b[0m\u001b[0m\n\u001b[0;32m-> 3814\u001b[0;31m             \u001b[0mtarget\u001b[0m \u001b[0;34m=\u001b[0m \u001b[0mensure_index\u001b[0m\u001b[0;34m(\u001b[0m\u001b[0mtarget\u001b[0m\u001b[0;34m)\u001b[0m\u001b[0;34m\u001b[0m\u001b[0;34m\u001b[0m\u001b[0m\n\u001b[0m\u001b[1;32m   3815\u001b[0m \u001b[0;34m\u001b[0m\u001b[0m\n\u001b[1;32m   3816\u001b[0m         \u001b[0;32mif\u001b[0m \u001b[0mlevel\u001b[0m \u001b[0;32mis\u001b[0m \u001b[0;32mnot\u001b[0m \u001b[0;32mNone\u001b[0m\u001b[0;34m:\u001b[0m\u001b[0;34m\u001b[0m\u001b[0;34m\u001b[0m\u001b[0m\n",
      "\u001b[0;32m~/anaconda3/envs/vae-wavefunctions/lib/python3.9/site-packages/pandas/core/indexes/base.py\u001b[0m in \u001b[0;36mensure_index\u001b[0;34m(index_like, copy)\u001b[0m\n\u001b[1;32m   6334\u001b[0m     \u001b[0;32melse\u001b[0m\u001b[0;34m:\u001b[0m\u001b[0;34m\u001b[0m\u001b[0;34m\u001b[0m\u001b[0m\n\u001b[1;32m   6335\u001b[0m \u001b[0;34m\u001b[0m\u001b[0m\n\u001b[0;32m-> 6336\u001b[0;31m         \u001b[0;32mreturn\u001b[0m \u001b[0mIndex\u001b[0m\u001b[0;34m(\u001b[0m\u001b[0mindex_like\u001b[0m\u001b[0;34m,\u001b[0m \u001b[0mcopy\u001b[0m\u001b[0;34m=\u001b[0m\u001b[0mcopy\u001b[0m\u001b[0;34m)\u001b[0m\u001b[0;34m\u001b[0m\u001b[0;34m\u001b[0m\u001b[0m\n\u001b[0m\u001b[1;32m   6337\u001b[0m \u001b[0;34m\u001b[0m\u001b[0m\n\u001b[1;32m   6338\u001b[0m \u001b[0;34m\u001b[0m\u001b[0m\n",
      "\u001b[0;32m~/anaconda3/envs/vae-wavefunctions/lib/python3.9/site-packages/pandas/core/indexes/base.py\u001b[0m in \u001b[0;36m__new__\u001b[0;34m(cls, data, dtype, copy, name, tupleize_cols, **kwargs)\u001b[0m\n\u001b[1;32m    466\u001b[0m                         \u001b[0;32mreturn\u001b[0m \u001b[0mcls\u001b[0m\u001b[0;34m(\u001b[0m\u001b[0marr\u001b[0m\u001b[0;34m,\u001b[0m \u001b[0mdtype\u001b[0m\u001b[0;34m,\u001b[0m \u001b[0mcopy\u001b[0m\u001b[0;34m=\u001b[0m\u001b[0mcopy\u001b[0m\u001b[0;34m,\u001b[0m \u001b[0mname\u001b[0m\u001b[0;34m=\u001b[0m\u001b[0mname\u001b[0m\u001b[0;34m,\u001b[0m \u001b[0;34m**\u001b[0m\u001b[0mkwargs\u001b[0m\u001b[0;34m)\u001b[0m\u001b[0;34m\u001b[0m\u001b[0;34m\u001b[0m\u001b[0m\n\u001b[1;32m    467\u001b[0m \u001b[0;34m\u001b[0m\u001b[0m\n\u001b[0;32m--> 468\u001b[0;31m             \u001b[0mklass\u001b[0m \u001b[0;34m=\u001b[0m \u001b[0mcls\u001b[0m\u001b[0;34m.\u001b[0m\u001b[0m_dtype_to_subclass\u001b[0m\u001b[0;34m(\u001b[0m\u001b[0marr\u001b[0m\u001b[0;34m.\u001b[0m\u001b[0mdtype\u001b[0m\u001b[0;34m)\u001b[0m\u001b[0;34m\u001b[0m\u001b[0;34m\u001b[0m\u001b[0m\n\u001b[0m\u001b[1;32m    469\u001b[0m             \u001b[0marr\u001b[0m \u001b[0;34m=\u001b[0m \u001b[0mklass\u001b[0m\u001b[0;34m.\u001b[0m\u001b[0m_ensure_array\u001b[0m\u001b[0;34m(\u001b[0m\u001b[0marr\u001b[0m\u001b[0;34m,\u001b[0m \u001b[0mdtype\u001b[0m\u001b[0;34m,\u001b[0m \u001b[0mcopy\u001b[0m\u001b[0;34m)\u001b[0m\u001b[0;34m\u001b[0m\u001b[0;34m\u001b[0m\u001b[0m\n\u001b[1;32m    470\u001b[0m             \u001b[0mdisallow_kwargs\u001b[0m\u001b[0;34m(\u001b[0m\u001b[0mkwargs\u001b[0m\u001b[0;34m)\u001b[0m\u001b[0;34m\u001b[0m\u001b[0;34m\u001b[0m\u001b[0m\n",
      "\u001b[0;32m~/anaconda3/envs/vae-wavefunctions/lib/python3.9/site-packages/pandas/core/indexes/base.py\u001b[0m in \u001b[0;36m_dtype_to_subclass\u001b[0;34m(cls, dtype)\u001b[0m\n\u001b[1;32m    555\u001b[0m \u001b[0;34m\u001b[0m\u001b[0m\n\u001b[1;32m    556\u001b[0m             \u001b[0;32mreturn\u001b[0m \u001b[0mUInt64Index\u001b[0m\u001b[0;34m\u001b[0m\u001b[0;34m\u001b[0m\u001b[0m\n\u001b[0;32m--> 557\u001b[0;31m         \u001b[0;32melif\u001b[0m \u001b[0mis_signed_integer_dtype\u001b[0m\u001b[0;34m(\u001b[0m\u001b[0mdtype\u001b[0m\u001b[0;34m)\u001b[0m\u001b[0;34m:\u001b[0m\u001b[0;34m\u001b[0m\u001b[0;34m\u001b[0m\u001b[0m\n\u001b[0m\u001b[1;32m    558\u001b[0m             \u001b[0;32mfrom\u001b[0m \u001b[0mpandas\u001b[0m \u001b[0;32mimport\u001b[0m \u001b[0mInt64Index\u001b[0m\u001b[0;34m\u001b[0m\u001b[0;34m\u001b[0m\u001b[0m\n\u001b[1;32m    559\u001b[0m \u001b[0;34m\u001b[0m\u001b[0m\n",
      "\u001b[0;32m~/anaconda3/envs/vae-wavefunctions/lib/python3.9/site-packages/pandas/core/dtypes/common.py\u001b[0m in \u001b[0;36mis_signed_integer_dtype\u001b[0;34m(arr_or_dtype)\u001b[0m\n\u001b[1;32m    774\u001b[0m     \u001b[0;32mFalse\u001b[0m\u001b[0;34m\u001b[0m\u001b[0;34m\u001b[0m\u001b[0m\n\u001b[1;32m    775\u001b[0m     \"\"\"\n\u001b[0;32m--> 776\u001b[0;31m     \u001b[0;32mreturn\u001b[0m \u001b[0m_is_dtype_type\u001b[0m\u001b[0;34m(\u001b[0m\u001b[0marr_or_dtype\u001b[0m\u001b[0;34m,\u001b[0m \u001b[0mclasses_and_not_datetimelike\u001b[0m\u001b[0;34m(\u001b[0m\u001b[0mnp\u001b[0m\u001b[0;34m.\u001b[0m\u001b[0msignedinteger\u001b[0m\u001b[0;34m)\u001b[0m\u001b[0;34m)\u001b[0m\u001b[0;34m\u001b[0m\u001b[0;34m\u001b[0m\u001b[0m\n\u001b[0m\u001b[1;32m    777\u001b[0m \u001b[0;34m\u001b[0m\u001b[0m\n\u001b[1;32m    778\u001b[0m \u001b[0;34m\u001b[0m\u001b[0m\n",
      "\u001b[0;32m~/anaconda3/envs/vae-wavefunctions/lib/python3.9/site-packages/pandas/core/dtypes/common.py\u001b[0m in \u001b[0;36mclasses_and_not_datetimelike\u001b[0;34m(*klasses)\u001b[0m\n\u001b[1;32m    147\u001b[0m \u001b[0;34m\u001b[0m\u001b[0m\n\u001b[1;32m    148\u001b[0m \u001b[0;34m\u001b[0m\u001b[0m\n\u001b[0;32m--> 149\u001b[0;31m \u001b[0;32mdef\u001b[0m \u001b[0mclasses_and_not_datetimelike\u001b[0m\u001b[0;34m(\u001b[0m\u001b[0;34m*\u001b[0m\u001b[0mklasses\u001b[0m\u001b[0;34m)\u001b[0m \u001b[0;34m->\u001b[0m \u001b[0mCallable\u001b[0m\u001b[0;34m:\u001b[0m\u001b[0;34m\u001b[0m\u001b[0;34m\u001b[0m\u001b[0m\n\u001b[0m\u001b[1;32m    150\u001b[0m     \"\"\"\n\u001b[1;32m    151\u001b[0m     \u001b[0mevaluate\u001b[0m \u001b[0;32mif\u001b[0m \u001b[0mthe\u001b[0m \u001b[0mtipo\u001b[0m \u001b[0;32mis\u001b[0m \u001b[0ma\u001b[0m \u001b[0msubclass\u001b[0m \u001b[0mof\u001b[0m \u001b[0mthe\u001b[0m \u001b[0mklasses\u001b[0m\u001b[0;34m\u001b[0m\u001b[0;34m\u001b[0m\u001b[0m\n",
      "\u001b[0;31mKeyboardInterrupt\u001b[0m: "
     ]
    }
   ],
   "source": [
    "for bit in list(itertools.product([0, 1], repeat=4)):\n",
    "    print(vqe_cost(bit, confl_arr, unique_coord_dict))"
   ]
  },
  {
   "cell_type": "code",
   "execution_count": 22,
   "metadata": {},
   "outputs": [],
   "source": [
    "t = 1  # initial value of tau.\n",
    "r = 0.1  # threshold for tau scheduling.\n",
    "learning_rate = 0.1\n",
    "n_steps = 5 # number of F-VQE iterations\n",
    "\n",
    "spectrum = dict()\n",
    "\n",
    "n_qubits = 4\n",
    "n_layers = 1  # number of ansatz circuit layers\n",
    "n_params = n_qubits * (1 + n_layers) \n",
    "\n",
    "params = np.array(list(np.zeros(n_params - n_qubits)) + list(np.ones(n_qubits) * np.pi / 2))"
   ]
  },
  {
   "cell_type": "code",
   "execution_count": 23,
   "metadata": {},
   "outputs": [
    {
     "name": "stderr",
     "output_type": "stream",
     "text": [
      "/tmp/ipykernel_14604/1057794213.py:11: RuntimeWarning: invalid value encountered in double_scalars\n",
      "  return np.float64(c) ** np.float64(-t)\n"
     ]
    },
    {
     "ename": "RuntimeError",
     "evalue": "Error trying to simulate circuit tk1(0.5, -nan, 3.5) q[0];\ntk1(0.5, -nan, 3.5) q[1];\ntk1(0.5, -nan, 3.5) q[2];\ntk1(0.5, -nan, 3.5) q[3];\nCX q[0], q[1];\ntk1(0.5, -nan, 3.5) q[0];\nCX q[1], q[2];\ntk1(0.5, -nan, 3.5) q[1];\nCX q[2], q[3];\ntk1(0.5, -nan, 3.5) q[2];\ntk1(0.5, -nan, 3.5) q[3];\nPhase (in half-turns): 0.0\n with 4 qubits, 11 commands; U is size 16x16, premultiplying M with 16 rows, 1 cols: GateUnitaryMatrix for op tk1(0.5, -nan, 3.5) acting on 1 qubits, taking 3 parameters:\nparam[0] = 0.5\nparam[1] = 0\nparam[2] = 0\nparameter[1] has non-finite value -nan",
     "output_type": "error",
     "traceback": [
      "\u001b[0;31m---------------------------------------------------------------------------\u001b[0m",
      "\u001b[0;31mRuntimeError\u001b[0m                              Traceback (most recent call last)",
      "\u001b[0;32m/tmp/ipykernel_14604/3143985435.py\u001b[0m in \u001b[0;36m<module>\u001b[0;34m\u001b[0m\n\u001b[0;32m----> 1\u001b[0;31m \u001b[0mevolution\u001b[0m\u001b[0;34m,\u001b[0m \u001b[0mfinal_param\u001b[0m\u001b[0;34m,\u001b[0m \u001b[0mspectrum\u001b[0m \u001b[0;34m=\u001b[0m \u001b[0mfvqe\u001b[0m\u001b[0;34m(\u001b[0m\u001b[0mparams\u001b[0m\u001b[0;34m,\u001b[0m \u001b[0mt\u001b[0m\u001b[0;34m,\u001b[0m \u001b[0mn_steps\u001b[0m\u001b[0;34m,\u001b[0m\u001b[0mspectrum\u001b[0m\u001b[0;34m,\u001b[0m\u001b[0mcost_function\u001b[0m \u001b[0;34m=\u001b[0m \u001b[0mvqe_cost\u001b[0m\u001b[0;34m,\u001b[0m \u001b[0mallowPrint\u001b[0m\u001b[0;34m=\u001b[0m\u001b[0;32mFalse\u001b[0m\u001b[0;34m)\u001b[0m\u001b[0;34m\u001b[0m\u001b[0;34m\u001b[0m\u001b[0m\n\u001b[0m\u001b[1;32m      2\u001b[0m \u001b[0mplot_evolution\u001b[0m\u001b[0;34m(\u001b[0m\u001b[0mevolution\u001b[0m\u001b[0;34m)\u001b[0m\u001b[0;34m\u001b[0m\u001b[0;34m\u001b[0m\u001b[0m\n",
      "\u001b[0;32m/tmp/ipykernel_14604/40586069.py\u001b[0m in \u001b[0;36mfvqe\u001b[0;34m(params, t, n_steps, spectrum, cost_function, allowPrint)\u001b[0m\n\u001b[1;32m    134\u001b[0m                  'overlap most likely solution': [], 'tau': [], 'entanglement':[]}    \n\u001b[1;32m    135\u001b[0m     \u001b[0;32mfor\u001b[0m \u001b[0mstep\u001b[0m \u001b[0;32min\u001b[0m \u001b[0mrange\u001b[0m\u001b[0;34m(\u001b[0m\u001b[0mn_steps\u001b[0m\u001b[0;34m)\u001b[0m\u001b[0;34m:\u001b[0m\u001b[0;34m\u001b[0m\u001b[0;34m\u001b[0m\u001b[0m\n\u001b[0;32m--> 136\u001b[0;31m         \u001b[0mstate\u001b[0m \u001b[0;34m=\u001b[0m \u001b[0mget_state\u001b[0m\u001b[0;34m(\u001b[0m\u001b[0mparams\u001b[0m\u001b[0;34m)\u001b[0m\u001b[0;34m\u001b[0m\u001b[0;34m\u001b[0m\u001b[0m\n\u001b[0m\u001b[1;32m    137\u001b[0m         \u001b[0mprobs\u001b[0m \u001b[0;34m=\u001b[0m \u001b[0msample_ansatz\u001b[0m\u001b[0;34m(\u001b[0m\u001b[0mparams\u001b[0m\u001b[0;34m,\u001b[0m \u001b[0mstate\u001b[0m\u001b[0;34m)\u001b[0m\u001b[0;34m\u001b[0m\u001b[0;34m\u001b[0m\u001b[0m\n\u001b[1;32m    138\u001b[0m         \u001b[0mspectrum\u001b[0m \u001b[0;34m=\u001b[0m \u001b[0mupdate_spectrum\u001b[0m\u001b[0;34m(\u001b[0m\u001b[0mprobs\u001b[0m\u001b[0;34m,\u001b[0m \u001b[0mspectrum\u001b[0m\u001b[0;34m,\u001b[0m\u001b[0mcost_function\u001b[0m\u001b[0;34m)\u001b[0m\u001b[0;34m\u001b[0m\u001b[0;34m\u001b[0m\u001b[0m\n",
      "\u001b[0;32m/tmp/ipykernel_14604/40586069.py\u001b[0m in \u001b[0;36mget_state\u001b[0;34m(params)\u001b[0m\n\u001b[1;32m     21\u001b[0m     \u001b[0mc\u001b[0m \u001b[0;34m=\u001b[0m \u001b[0mansatz\u001b[0m\u001b[0;34m(\u001b[0m\u001b[0mparams\u001b[0m\u001b[0;34m)\u001b[0m\u001b[0;34m\u001b[0m\u001b[0;34m\u001b[0m\u001b[0m\n\u001b[1;32m     22\u001b[0m     \u001b[0mb\u001b[0m \u001b[0;34m=\u001b[0m \u001b[0mAerStateBackend\u001b[0m\u001b[0;34m(\u001b[0m\u001b[0;34m)\u001b[0m\u001b[0;34m\u001b[0m\u001b[0;34m\u001b[0m\u001b[0m\n\u001b[0;32m---> 23\u001b[0;31m     \u001b[0;32mreturn\u001b[0m \u001b[0mb\u001b[0m\u001b[0;34m.\u001b[0m\u001b[0mget_compiled_circuit\u001b[0m\u001b[0;34m(\u001b[0m\u001b[0mc\u001b[0m\u001b[0;34m)\u001b[0m\u001b[0;34m.\u001b[0m\u001b[0mget_statevector\u001b[0m\u001b[0;34m(\u001b[0m\u001b[0;34m)\u001b[0m\u001b[0;34m\u001b[0m\u001b[0;34m\u001b[0m\u001b[0m\n\u001b[0m\u001b[1;32m     24\u001b[0m \u001b[0;34m\u001b[0m\u001b[0m\n\u001b[1;32m     25\u001b[0m \u001b[0;32mdef\u001b[0m \u001b[0mupdate_spectrum\u001b[0m\u001b[0;34m(\u001b[0m\u001b[0mprobs\u001b[0m\u001b[0;34m,\u001b[0m \u001b[0mspectrum\u001b[0m\u001b[0;34m,\u001b[0m\u001b[0mcost_function\u001b[0m\u001b[0;34m)\u001b[0m\u001b[0;34m:\u001b[0m\u001b[0;34m\u001b[0m\u001b[0;34m\u001b[0m\u001b[0m\n",
      "\u001b[0;31mRuntimeError\u001b[0m: Error trying to simulate circuit tk1(0.5, -nan, 3.5) q[0];\ntk1(0.5, -nan, 3.5) q[1];\ntk1(0.5, -nan, 3.5) q[2];\ntk1(0.5, -nan, 3.5) q[3];\nCX q[0], q[1];\ntk1(0.5, -nan, 3.5) q[0];\nCX q[1], q[2];\ntk1(0.5, -nan, 3.5) q[1];\nCX q[2], q[3];\ntk1(0.5, -nan, 3.5) q[2];\ntk1(0.5, -nan, 3.5) q[3];\nPhase (in half-turns): 0.0\n with 4 qubits, 11 commands; U is size 16x16, premultiplying M with 16 rows, 1 cols: GateUnitaryMatrix for op tk1(0.5, -nan, 3.5) acting on 1 qubits, taking 3 parameters:\nparam[0] = 0.5\nparam[1] = 0\nparam[2] = 0\nparameter[1] has non-finite value -nan"
     ]
    }
   ],
   "source": [
    "evolution, final_param, spectrum = fvqe(params, t, n_steps,spectrum,cost_function = vqe_cost, allowPrint=False)\n",
    "plot_evolution(evolution)"
   ]
  },
  {
   "cell_type": "code",
   "execution_count": null,
   "metadata": {},
   "outputs": [],
   "source": []
  },
  {
   "cell_type": "code",
   "execution_count": null,
   "metadata": {},
   "outputs": [],
   "source": []
  },
  {
   "cell_type": "code",
   "execution_count": null,
   "metadata": {},
   "outputs": [],
   "source": []
  },
  {
   "cell_type": "code",
   "execution_count": null,
   "metadata": {},
   "outputs": [],
   "source": []
  },
  {
   "cell_type": "code",
   "execution_count": null,
   "metadata": {},
   "outputs": [],
   "source": []
  },
  {
   "cell_type": "code",
   "execution_count": 118,
   "metadata": {},
   "outputs": [],
   "source": [
    "# F-VQE algorithm\n",
    "    \n",
    "# initialises the quantum computer in the equal superposition\n",
    "\n",
    "def fvqe(params, n_steps, un_coord_dict):\n",
    "    spectrum = {}\n",
    "    for step in range(n_steps):\n",
    "        gradient, spectrum = g(params, t, spectrum, un_coord_dict)\n",
    "        \n",
    "        params = update_params(params, gradient)\n",
    "      \n",
    "        best_cost = min(spectrum.values())\n",
    "        best_solutions = {bitstring for bitstring, cost in spectrum.items() if cost==best_cost}\n",
    "        print(f\"step {step}: best cost = {best_cost} for {best_solutions}\", \"\\n\")\n",
    "    return spectrum, best_cost, best_solutions"
   ]
  },
  {
   "cell_type": "code",
   "execution_count": 119,
   "metadata": {},
   "outputs": [
    {
     "name": "stdout",
     "output_type": "stream",
     "text": [
      "step 0: best cost = 0.011292376673989779 for {(0, 0, 0, 1, 0, 0, 1, 1, 1, 1, 1, 0, 1, 1, 0, 0)} \n",
      "\n",
      "step 1: best cost = 0.011292376673989779 for {(0, 0, 0, 1, 0, 0, 1, 1, 1, 1, 1, 0, 1, 1, 0, 0)} \n",
      "\n"
     ]
    }
   ],
   "source": [
    "params = np.array(list(np.zeros(n_params - n_qubits)) + list(np.ones(n_qubits) * np.pi / 2)) \n",
    "spectrum, best_cost, best_solutions = fvqe(params,  2, unique_coord_dict)"
   ]
  },
  {
   "cell_type": "code",
   "execution_count": 34,
   "metadata": {},
   "outputs": [],
   "source": [
    "# from copy import deepcopy\n",
    "# def bitstr_to_traj(bit_string, confl_arr, input_traj, un_coord_dict):\n",
    "#     \"\"\" Take bitstring and return changed trajectory.\n",
    "#     The bit value changed the flight altitude by +-20FL at the confilct point.\"\"\"\n",
    "#     traj = deepcopy(input_traj)\n",
    "#     for bit, confl in zip(bit_string, confl_arr):\n",
    "#         changed_traj = binary_to_traj(bit, confl, traj, un_coord_dict)\n",
    "#     return changed_traj\n",
    "\n",
    "\n",
    "# def binary_to_traj(b_val, conflict_point, input_traj, un_coord_dict):\n",
    "#     \"\"\" Take binary value and translate it to changed trajectory array \"\"\"\n",
    "#     traj = deepcopy(input_traj)\n",
    "\n",
    "#     confl_tuple_arr = []\n",
    "#     for point in traj[conflict_point[0]]:\n",
    "#         x = point[\"x\"]\n",
    "#         y = point[\"y\"]\n",
    "#         z = point[\"z\"]\n",
    "#         confl_tuple_arr.append(ut.xyz_to_tuple(x, y, z))\n",
    "\n",
    "#     i = 0\n",
    "#     continuous_confl = True\n",
    "#     while continuous_confl:\n",
    "#         try:\n",
    "#             new_confl_cnt = ut.penalty_cnt_bit((b_val,), [[conflict_point[0], conflict_point[1] + i]], input_traj,\n",
    "#                                             un_coord_dict)\n",
    "#         except:\n",
    "#             continuous_confl = False\n",
    "#             i -= 1\n",
    "#             break\n",
    "\n",
    "#         if new_confl_cnt < 0:\n",
    "#             i += 1\n",
    "#         else:\n",
    "#             continuous_confl = False\n",
    "#             break\n",
    "#     for cnt, point in enumerate(confl_tuple_arr[conflict_point[1]:conflict_point[1] + i + 1]):\n",
    "#         confl_tuple_arr[conflict_point[1] + cnt] = (point[0], point[1], point[2] - 1 + b_val * 2)\n",
    "\n",
    "#     traj[conflict_point[0]] = ut.tuple_path_to_trajec(confl_tuple_arr, conflict_point[0])\n",
    "#     return traj"
   ]
  },
  {
   "cell_type": "code",
   "execution_count": 32,
   "metadata": {},
   "outputs": [
    {
     "name": "stdout",
     "output_type": "stream",
     "text": [
      "[numpy.datetime64('2018-06-23T08:28:22'), numpy.timedelta64(726,'s'), 11, 10]\n",
      "[numpy.datetime64('2018-06-23T09:02:33'), numpy.timedelta64(726,'s'), 18, 7]\n",
      "[numpy.datetime64('2018-06-23T09:02:33'), numpy.timedelta64(726,'s'), 18, 7]\n",
      "[numpy.datetime64('2018-06-23T09:02:33'), numpy.timedelta64(726,'s'), 18, 7]\n",
      "[numpy.datetime64('2018-06-23T09:02:33'), numpy.timedelta64(726,'s'), 18, 7]\n",
      "[numpy.datetime64('2018-06-23T09:02:33'), numpy.timedelta64(726,'s'), 18, 7]\n",
      "[numpy.datetime64('2018-06-23T08:53:53'), numpy.timedelta64(726,'s'), 29, 9]\n",
      "[numpy.datetime64('2018-06-23T09:41:11'), numpy.timedelta64(726,'s'), 43, 9]\n",
      "[numpy.datetime64('2018-06-23T09:41:11'), numpy.timedelta64(726,'s'), 43, 9]\n",
      "[numpy.datetime64('2018-06-23T09:41:11'), numpy.timedelta64(726,'s'), 43, 9]\n",
      "[numpy.datetime64('2018-06-23T09:41:11'), numpy.timedelta64(726,'s'), 43, 9]\n",
      "[numpy.datetime64('2018-06-23T09:12:05'), numpy.timedelta64(726,'s'), 47, 7]\n",
      "[numpy.datetime64('2018-06-23T09:12:05'), numpy.timedelta64(726,'s'), 47, 7]\n",
      "[numpy.datetime64('2018-06-23T09:12:05'), numpy.timedelta64(726,'s'), 47, 7]\n",
      "[numpy.datetime64('2018-06-23T09:12:05'), numpy.timedelta64(726,'s'), 47, 7]\n",
      "[numpy.datetime64('2018-06-23T08:01:16'), numpy.timedelta64(726,'s'), 53, 9]\n",
      "[numpy.datetime64('2018-06-23T09:44:05'), numpy.timedelta64(726,'s'), 54, 8]\n",
      "[numpy.datetime64('2018-06-23T09:44:05'), numpy.timedelta64(726,'s'), 54, 8]\n",
      "[numpy.datetime64('2018-06-23T09:14:43'), numpy.timedelta64(726,'s'), 60, 10]\n",
      "[numpy.datetime64('2018-06-23T09:14:43'), numpy.timedelta64(726,'s'), 60, 10]\n",
      "[numpy.datetime64('2018-06-23T09:14:43'), numpy.timedelta64(726,'s'), 60, 10]\n",
      "[numpy.datetime64('2018-06-23T09:47:37'), numpy.timedelta64(726,'s'), 61, 9]\n",
      "[numpy.datetime64('2018-06-23T09:31:01'), numpy.timedelta64(726,'s'), 65, 13]\n",
      "[numpy.datetime64('2018-06-23T10:12:17'), numpy.timedelta64(726,'s'), 69, 13]\n",
      "[numpy.datetime64('2018-06-23T09:13:22'), numpy.timedelta64(726,'s'), 72, 10]\n",
      "[numpy.datetime64('2018-06-23T09:13:22'), numpy.timedelta64(726,'s'), 72, 10]\n",
      "[numpy.datetime64('2018-06-23T09:10:57'), numpy.timedelta64(726,'s'), 84, 11]\n"
     ]
    },
    {
     "data": {
      "text/plain": [
       "27"
      ]
     },
     "execution_count": 32,
     "metadata": {},
     "output_type": "execute_result"
    }
   ],
   "source": [
    "def count_confl(x, y, z, un_coord_dict):\n",
    "    try:\n",
    "        v = un_coord_dict[str(int(x)) + \"_\" + str(int(y)) + \"_\" + str(int(z))]\n",
    "    except:\n",
    "        return 0\n",
    "    cnt = 0\n",
    "    for inx in range(len(v)):\n",
    "        for inx_2 in range(inx, len(v)):\n",
    "            time_diff = np.abs(v[inx][0] - v[inx_2][0])\n",
    "            if time_diff < v[inx][1]:\n",
    "                cnt += 1\n",
    "                print(v[inx])\n",
    "    return cnt\n",
    "count_confl(-4, 38, 320, unique_coord_dict)"
   ]
  },
  {
   "cell_type": "code",
   "execution_count": 25,
   "metadata": {},
   "outputs": [
    {
     "data": {
      "text/plain": [
       "2556"
      ]
     },
     "execution_count": 25,
     "metadata": {},
     "output_type": "execute_result"
    }
   ],
   "source": [
    "solution = copy.deepcopy(best_solutions).pop()\n",
    "improv_traj_arr = ut.bitstr_to_traj(solution, confl_arr, q_traj_arr,unique_coord_dict)\n",
    "unique_coord_dict_new = ut.unique_coord(improv_traj_arr)\n",
    "new_confl = ut.get_confl_arr(unique_coord_dict_new)\n",
    "len(new_confl)"
   ]
  },
  {
   "cell_type": "code",
   "execution_count": null,
   "metadata": {},
   "outputs": [],
   "source": [
    "options = {'backend_name': 'ibmq_guadalupe'}\n",
    "\n",
    "runtime_inputs = {\n",
    "\n",
    "  'ansatz': None, \n",
    "\t\n",
    "\t# A list or dict (with\n",
    "  # strings as keys) of operators\n",
    "  # of type PauliSumOp to be\n",
    "  # evaluated at the final, optimized\n",
    "  # state.\n",
    "  'aux_operators': None, # array\n",
    "\t\n",
    "\t# Initial position of virtual qubits\n",
    "  # on the physical qubits of\n",
    "  # the quantum device. Default is\n",
    "  # None.\n",
    "  'initial_layout': None, # [null,array,object]\n",
    "\t\n",
    "\t# Initial parameters of the ansatz.\n",
    "  # Can be an array or\n",
    "  # the string ``'random'`` to choose\n",
    "  # random initial parameters.\n",
    "  'initial_parameters': None, # [array,string] (required)\n",
    "\t\n",
    "\t# Whether to apply measurement error\n",
    "  # mitigation in form of a\n",
    "  # complete measurement fitter to the\n",
    "  # measurements. Defaults to False.\n",
    "  'measurement_error_mitigation': False, # boolean\n",
    "\t\n",
    "\t# The Hamiltonian whose smallest eigenvalue\n",
    "  # we're trying to find. Should\n",
    "  # be PauliSumOp\n",
    "  'operator': None, # object (required)\n",
    "\t\n",
    "\t# The classical optimizer used in\n",
    "  # to update the parameters in\n",
    "  # each iteration. Can be either\n",
    "  # any of Qiskit's Optimizer classes.\n",
    "  # If a dictionary, only SPSA\n",
    "  # and QN-SPSA are supported and\n",
    "  # the dictionary must specify the\n",
    "  # name and options of the\n",
    "  # optimizer, e.g. ``{'name': 'SPSA', 'maxiter':\n",
    "  # 100}``.\n",
    "  'optimizer': None, # object (required)\n",
    "\t\n",
    "\t# The number of shots used\n",
    "  # for each circuit evaluation. Defaults\n",
    "  # to 1024.\n",
    "  'shots': 1024 # integer\n",
    "}\n",
    "\n",
    "IBMQ.load_account()\n",
    "provider = IBMQ.get_provider(\n",
    "\thub='deloitte-event',\n",
    "\tgroup='finalist',\n",
    "\tproject='reczjy7jpzcfdlq0'\n",
    ")\n",
    "\n",
    "job = provider.runtime.run(\n",
    "    program_id='vqe',\n",
    "    options=options,\n",
    "    inputs=runtime_inputs)\n",
    "\n",
    "# Job id\n",
    "print(job.job_id())\n",
    "# See job status\n",
    "print(job.status())\n",
    "\n",
    "# Get results\n",
    "result = job.result()"
   ]
  },
  {
   "cell_type": "markdown",
   "metadata": {},
   "source": [
    "Take a state with minimal cost and compute the deconflicted flight schedule."
   ]
  }
 ],
 "metadata": {
  "kernelspec": {
   "display_name": "Python 3 (ipykernel)",
   "language": "python",
   "name": "python3"
  },
  "language_info": {
   "codemirror_mode": {
    "name": "ipython",
    "version": 3
   },
   "file_extension": ".py",
   "mimetype": "text/x-python",
   "name": "python",
   "nbconvert_exporter": "python",
   "pygments_lexer": "ipython3",
   "version": "3.9.7"
  }
 },
 "nbformat": 4,
 "nbformat_minor": 4
}
